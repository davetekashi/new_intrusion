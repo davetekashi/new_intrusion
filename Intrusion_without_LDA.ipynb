{
  "nbformat": 4,
  "nbformat_minor": 0,
  "metadata": {
    "colab": {
      "provenance": []
    },
    "kernelspec": {
      "name": "python3",
      "display_name": "Python 3"
    },
    "language_info": {
      "name": "python"
    }
  },
  "cells": [
    {
      "cell_type": "code",
      "execution_count": 1,
      "metadata": {
        "id": "W68osdGkZc-1"
      },
      "outputs": [],
      "source": [
        "import numpy as np\n",
        "import pandas as pd\n",
        "import seaborn as sns\n",
        "import matplotlib.pyplot as plt"
      ]
    },
    {
      "cell_type": "code",
      "source": [
        "df = pd.read_csv('/content/wednesday.csv')\n",
        "df"
      ],
      "metadata": {
        "colab": {
          "base_uri": "https://localhost:8080/",
          "height": 540
        },
        "id": "V2uabTjogBV6",
        "outputId": "5e59e0cf-09d2-4d7b-f135-8b4869b477b7"
      },
      "execution_count": 2,
      "outputs": [
        {
          "output_type": "execute_result",
          "data": {
            "text/plain": [
              "         Destination Port   Flow Duration   Total Fwd Packets  \\\n",
              "0                      80           38308                   1   \n",
              "1                     389             479                  11   \n",
              "2                      88            1095                  10   \n",
              "3                     389           15206                  17   \n",
              "4                      88            1092                   9   \n",
              "...                   ...             ...                 ...   \n",
              "692698                 53           32215                   4   \n",
              "692699                 53             324                   2   \n",
              "692700              58030              82                   2   \n",
              "692701                 53         1048635                   6   \n",
              "692702                 53           94939                   4   \n",
              "\n",
              "         Total Backward Packets  Total Length of Fwd Packets  \\\n",
              "0                             1                            6   \n",
              "1                             5                          172   \n",
              "2                             6                         3150   \n",
              "3                            12                         3452   \n",
              "4                             6                         3150   \n",
              "...                         ...                          ...   \n",
              "692698                        2                          112   \n",
              "692699                        2                           84   \n",
              "692700                        1                           31   \n",
              "692701                        2                          192   \n",
              "692702                        2                          188   \n",
              "\n",
              "         Total Length of Bwd Packets   Fwd Packet Length Max  \\\n",
              "0                                  6                       6   \n",
              "1                                326                      79   \n",
              "2                               3150                    1575   \n",
              "3                               6660                    1313   \n",
              "4                               3152                    1575   \n",
              "...                              ...                     ...   \n",
              "692698                           152                      28   \n",
              "692699                           362                      42   \n",
              "692700                             6                      31   \n",
              "692701                           256                      32   \n",
              "692702                           226                      47   \n",
              "\n",
              "         Fwd Packet Length Min   Fwd Packet Length Mean  \\\n",
              "0                            6                 6.000000   \n",
              "1                            0                15.636364   \n",
              "2                            0               315.000000   \n",
              "3                            0               203.058823   \n",
              "4                            0               350.000000   \n",
              "...                        ...                      ...   \n",
              "692698                      28                28.000000   \n",
              "692699                      42                42.000000   \n",
              "692700                       0                15.500000   \n",
              "692701                      32                32.000000   \n",
              "692702                      47                47.000000   \n",
              "\n",
              "         Fwd Packet Length Std  ...   min_seg_size_forward  Active Mean  \\\n",
              "0                     0.000000  ...                     20          0.0   \n",
              "1                    31.449238  ...                     32          0.0   \n",
              "2                   632.561635  ...                     32          0.0   \n",
              "3                   425.778474  ...                     32          0.0   \n",
              "4                   694.509719  ...                     32          0.0   \n",
              "...                        ...  ...                    ...          ...   \n",
              "692698                0.000000  ...                     20          0.0   \n",
              "692699                0.000000  ...                     20          0.0   \n",
              "692700               21.920310  ...                     32          0.0   \n",
              "692701                0.000000  ...                     20          0.0   \n",
              "692702                0.000000  ...                     20          0.0   \n",
              "\n",
              "         Active Std   Active Max   Active Min  Idle Mean   Idle Std  \\\n",
              "0               0.0            0            0        0.0        0.0   \n",
              "1               0.0            0            0        0.0        0.0   \n",
              "2               0.0            0            0        0.0        0.0   \n",
              "3               0.0            0            0        0.0        0.0   \n",
              "4               0.0            0            0        0.0        0.0   \n",
              "...             ...          ...          ...        ...        ...   \n",
              "692698          0.0            0            0        0.0        0.0   \n",
              "692699          0.0            0            0        0.0        0.0   \n",
              "692700          0.0            0            0        0.0        0.0   \n",
              "692701          0.0            0            0        0.0        0.0   \n",
              "692702          0.0            0            0        0.0        0.0   \n",
              "\n",
              "         Idle Max   Idle Min   Label  \n",
              "0               0          0  BENIGN  \n",
              "1               0          0  BENIGN  \n",
              "2               0          0  BENIGN  \n",
              "3               0          0  BENIGN  \n",
              "4               0          0  BENIGN  \n",
              "...           ...        ...     ...  \n",
              "692698          0          0  BENIGN  \n",
              "692699          0          0  BENIGN  \n",
              "692700          0          0  BENIGN  \n",
              "692701          0          0  BENIGN  \n",
              "692702          0          0  BENIGN  \n",
              "\n",
              "[692703 rows x 79 columns]"
            ],
            "text/html": [
              "\n",
              "  <div id=\"df-5117c3e4-6688-4fd1-943a-b62ec6128aaa\">\n",
              "    <div class=\"colab-df-container\">\n",
              "      <div>\n",
              "<style scoped>\n",
              "    .dataframe tbody tr th:only-of-type {\n",
              "        vertical-align: middle;\n",
              "    }\n",
              "\n",
              "    .dataframe tbody tr th {\n",
              "        vertical-align: top;\n",
              "    }\n",
              "\n",
              "    .dataframe thead th {\n",
              "        text-align: right;\n",
              "    }\n",
              "</style>\n",
              "<table border=\"1\" class=\"dataframe\">\n",
              "  <thead>\n",
              "    <tr style=\"text-align: right;\">\n",
              "      <th></th>\n",
              "      <th>Destination Port</th>\n",
              "      <th>Flow Duration</th>\n",
              "      <th>Total Fwd Packets</th>\n",
              "      <th>Total Backward Packets</th>\n",
              "      <th>Total Length of Fwd Packets</th>\n",
              "      <th>Total Length of Bwd Packets</th>\n",
              "      <th>Fwd Packet Length Max</th>\n",
              "      <th>Fwd Packet Length Min</th>\n",
              "      <th>Fwd Packet Length Mean</th>\n",
              "      <th>Fwd Packet Length Std</th>\n",
              "      <th>...</th>\n",
              "      <th>min_seg_size_forward</th>\n",
              "      <th>Active Mean</th>\n",
              "      <th>Active Std</th>\n",
              "      <th>Active Max</th>\n",
              "      <th>Active Min</th>\n",
              "      <th>Idle Mean</th>\n",
              "      <th>Idle Std</th>\n",
              "      <th>Idle Max</th>\n",
              "      <th>Idle Min</th>\n",
              "      <th>Label</th>\n",
              "    </tr>\n",
              "  </thead>\n",
              "  <tbody>\n",
              "    <tr>\n",
              "      <th>0</th>\n",
              "      <td>80</td>\n",
              "      <td>38308</td>\n",
              "      <td>1</td>\n",
              "      <td>1</td>\n",
              "      <td>6</td>\n",
              "      <td>6</td>\n",
              "      <td>6</td>\n",
              "      <td>6</td>\n",
              "      <td>6.000000</td>\n",
              "      <td>0.000000</td>\n",
              "      <td>...</td>\n",
              "      <td>20</td>\n",
              "      <td>0.0</td>\n",
              "      <td>0.0</td>\n",
              "      <td>0</td>\n",
              "      <td>0</td>\n",
              "      <td>0.0</td>\n",
              "      <td>0.0</td>\n",
              "      <td>0</td>\n",
              "      <td>0</td>\n",
              "      <td>BENIGN</td>\n",
              "    </tr>\n",
              "    <tr>\n",
              "      <th>1</th>\n",
              "      <td>389</td>\n",
              "      <td>479</td>\n",
              "      <td>11</td>\n",
              "      <td>5</td>\n",
              "      <td>172</td>\n",
              "      <td>326</td>\n",
              "      <td>79</td>\n",
              "      <td>0</td>\n",
              "      <td>15.636364</td>\n",
              "      <td>31.449238</td>\n",
              "      <td>...</td>\n",
              "      <td>32</td>\n",
              "      <td>0.0</td>\n",
              "      <td>0.0</td>\n",
              "      <td>0</td>\n",
              "      <td>0</td>\n",
              "      <td>0.0</td>\n",
              "      <td>0.0</td>\n",
              "      <td>0</td>\n",
              "      <td>0</td>\n",
              "      <td>BENIGN</td>\n",
              "    </tr>\n",
              "    <tr>\n",
              "      <th>2</th>\n",
              "      <td>88</td>\n",
              "      <td>1095</td>\n",
              "      <td>10</td>\n",
              "      <td>6</td>\n",
              "      <td>3150</td>\n",
              "      <td>3150</td>\n",
              "      <td>1575</td>\n",
              "      <td>0</td>\n",
              "      <td>315.000000</td>\n",
              "      <td>632.561635</td>\n",
              "      <td>...</td>\n",
              "      <td>32</td>\n",
              "      <td>0.0</td>\n",
              "      <td>0.0</td>\n",
              "      <td>0</td>\n",
              "      <td>0</td>\n",
              "      <td>0.0</td>\n",
              "      <td>0.0</td>\n",
              "      <td>0</td>\n",
              "      <td>0</td>\n",
              "      <td>BENIGN</td>\n",
              "    </tr>\n",
              "    <tr>\n",
              "      <th>3</th>\n",
              "      <td>389</td>\n",
              "      <td>15206</td>\n",
              "      <td>17</td>\n",
              "      <td>12</td>\n",
              "      <td>3452</td>\n",
              "      <td>6660</td>\n",
              "      <td>1313</td>\n",
              "      <td>0</td>\n",
              "      <td>203.058823</td>\n",
              "      <td>425.778474</td>\n",
              "      <td>...</td>\n",
              "      <td>32</td>\n",
              "      <td>0.0</td>\n",
              "      <td>0.0</td>\n",
              "      <td>0</td>\n",
              "      <td>0</td>\n",
              "      <td>0.0</td>\n",
              "      <td>0.0</td>\n",
              "      <td>0</td>\n",
              "      <td>0</td>\n",
              "      <td>BENIGN</td>\n",
              "    </tr>\n",
              "    <tr>\n",
              "      <th>4</th>\n",
              "      <td>88</td>\n",
              "      <td>1092</td>\n",
              "      <td>9</td>\n",
              "      <td>6</td>\n",
              "      <td>3150</td>\n",
              "      <td>3152</td>\n",
              "      <td>1575</td>\n",
              "      <td>0</td>\n",
              "      <td>350.000000</td>\n",
              "      <td>694.509719</td>\n",
              "      <td>...</td>\n",
              "      <td>32</td>\n",
              "      <td>0.0</td>\n",
              "      <td>0.0</td>\n",
              "      <td>0</td>\n",
              "      <td>0</td>\n",
              "      <td>0.0</td>\n",
              "      <td>0.0</td>\n",
              "      <td>0</td>\n",
              "      <td>0</td>\n",
              "      <td>BENIGN</td>\n",
              "    </tr>\n",
              "    <tr>\n",
              "      <th>...</th>\n",
              "      <td>...</td>\n",
              "      <td>...</td>\n",
              "      <td>...</td>\n",
              "      <td>...</td>\n",
              "      <td>...</td>\n",
              "      <td>...</td>\n",
              "      <td>...</td>\n",
              "      <td>...</td>\n",
              "      <td>...</td>\n",
              "      <td>...</td>\n",
              "      <td>...</td>\n",
              "      <td>...</td>\n",
              "      <td>...</td>\n",
              "      <td>...</td>\n",
              "      <td>...</td>\n",
              "      <td>...</td>\n",
              "      <td>...</td>\n",
              "      <td>...</td>\n",
              "      <td>...</td>\n",
              "      <td>...</td>\n",
              "      <td>...</td>\n",
              "    </tr>\n",
              "    <tr>\n",
              "      <th>692698</th>\n",
              "      <td>53</td>\n",
              "      <td>32215</td>\n",
              "      <td>4</td>\n",
              "      <td>2</td>\n",
              "      <td>112</td>\n",
              "      <td>152</td>\n",
              "      <td>28</td>\n",
              "      <td>28</td>\n",
              "      <td>28.000000</td>\n",
              "      <td>0.000000</td>\n",
              "      <td>...</td>\n",
              "      <td>20</td>\n",
              "      <td>0.0</td>\n",
              "      <td>0.0</td>\n",
              "      <td>0</td>\n",
              "      <td>0</td>\n",
              "      <td>0.0</td>\n",
              "      <td>0.0</td>\n",
              "      <td>0</td>\n",
              "      <td>0</td>\n",
              "      <td>BENIGN</td>\n",
              "    </tr>\n",
              "    <tr>\n",
              "      <th>692699</th>\n",
              "      <td>53</td>\n",
              "      <td>324</td>\n",
              "      <td>2</td>\n",
              "      <td>2</td>\n",
              "      <td>84</td>\n",
              "      <td>362</td>\n",
              "      <td>42</td>\n",
              "      <td>42</td>\n",
              "      <td>42.000000</td>\n",
              "      <td>0.000000</td>\n",
              "      <td>...</td>\n",
              "      <td>20</td>\n",
              "      <td>0.0</td>\n",
              "      <td>0.0</td>\n",
              "      <td>0</td>\n",
              "      <td>0</td>\n",
              "      <td>0.0</td>\n",
              "      <td>0.0</td>\n",
              "      <td>0</td>\n",
              "      <td>0</td>\n",
              "      <td>BENIGN</td>\n",
              "    </tr>\n",
              "    <tr>\n",
              "      <th>692700</th>\n",
              "      <td>58030</td>\n",
              "      <td>82</td>\n",
              "      <td>2</td>\n",
              "      <td>1</td>\n",
              "      <td>31</td>\n",
              "      <td>6</td>\n",
              "      <td>31</td>\n",
              "      <td>0</td>\n",
              "      <td>15.500000</td>\n",
              "      <td>21.920310</td>\n",
              "      <td>...</td>\n",
              "      <td>32</td>\n",
              "      <td>0.0</td>\n",
              "      <td>0.0</td>\n",
              "      <td>0</td>\n",
              "      <td>0</td>\n",
              "      <td>0.0</td>\n",
              "      <td>0.0</td>\n",
              "      <td>0</td>\n",
              "      <td>0</td>\n",
              "      <td>BENIGN</td>\n",
              "    </tr>\n",
              "    <tr>\n",
              "      <th>692701</th>\n",
              "      <td>53</td>\n",
              "      <td>1048635</td>\n",
              "      <td>6</td>\n",
              "      <td>2</td>\n",
              "      <td>192</td>\n",
              "      <td>256</td>\n",
              "      <td>32</td>\n",
              "      <td>32</td>\n",
              "      <td>32.000000</td>\n",
              "      <td>0.000000</td>\n",
              "      <td>...</td>\n",
              "      <td>20</td>\n",
              "      <td>0.0</td>\n",
              "      <td>0.0</td>\n",
              "      <td>0</td>\n",
              "      <td>0</td>\n",
              "      <td>0.0</td>\n",
              "      <td>0.0</td>\n",
              "      <td>0</td>\n",
              "      <td>0</td>\n",
              "      <td>BENIGN</td>\n",
              "    </tr>\n",
              "    <tr>\n",
              "      <th>692702</th>\n",
              "      <td>53</td>\n",
              "      <td>94939</td>\n",
              "      <td>4</td>\n",
              "      <td>2</td>\n",
              "      <td>188</td>\n",
              "      <td>226</td>\n",
              "      <td>47</td>\n",
              "      <td>47</td>\n",
              "      <td>47.000000</td>\n",
              "      <td>0.000000</td>\n",
              "      <td>...</td>\n",
              "      <td>20</td>\n",
              "      <td>0.0</td>\n",
              "      <td>0.0</td>\n",
              "      <td>0</td>\n",
              "      <td>0</td>\n",
              "      <td>0.0</td>\n",
              "      <td>0.0</td>\n",
              "      <td>0</td>\n",
              "      <td>0</td>\n",
              "      <td>BENIGN</td>\n",
              "    </tr>\n",
              "  </tbody>\n",
              "</table>\n",
              "<p>692703 rows × 79 columns</p>\n",
              "</div>\n",
              "      <button class=\"colab-df-convert\" onclick=\"convertToInteractive('df-5117c3e4-6688-4fd1-943a-b62ec6128aaa')\"\n",
              "              title=\"Convert this dataframe to an interactive table.\"\n",
              "              style=\"display:none;\">\n",
              "        \n",
              "  <svg xmlns=\"http://www.w3.org/2000/svg\" height=\"24px\"viewBox=\"0 0 24 24\"\n",
              "       width=\"24px\">\n",
              "    <path d=\"M0 0h24v24H0V0z\" fill=\"none\"/>\n",
              "    <path d=\"M18.56 5.44l.94 2.06.94-2.06 2.06-.94-2.06-.94-.94-2.06-.94 2.06-2.06.94zm-11 1L8.5 8.5l.94-2.06 2.06-.94-2.06-.94L8.5 2.5l-.94 2.06-2.06.94zm10 10l.94 2.06.94-2.06 2.06-.94-2.06-.94-.94-2.06-.94 2.06-2.06.94z\"/><path d=\"M17.41 7.96l-1.37-1.37c-.4-.4-.92-.59-1.43-.59-.52 0-1.04.2-1.43.59L10.3 9.45l-7.72 7.72c-.78.78-.78 2.05 0 2.83L4 21.41c.39.39.9.59 1.41.59.51 0 1.02-.2 1.41-.59l7.78-7.78 2.81-2.81c.8-.78.8-2.07 0-2.86zM5.41 20L4 18.59l7.72-7.72 1.47 1.35L5.41 20z\"/>\n",
              "  </svg>\n",
              "      </button>\n",
              "      \n",
              "  <style>\n",
              "    .colab-df-container {\n",
              "      display:flex;\n",
              "      flex-wrap:wrap;\n",
              "      gap: 12px;\n",
              "    }\n",
              "\n",
              "    .colab-df-convert {\n",
              "      background-color: #E8F0FE;\n",
              "      border: none;\n",
              "      border-radius: 50%;\n",
              "      cursor: pointer;\n",
              "      display: none;\n",
              "      fill: #1967D2;\n",
              "      height: 32px;\n",
              "      padding: 0 0 0 0;\n",
              "      width: 32px;\n",
              "    }\n",
              "\n",
              "    .colab-df-convert:hover {\n",
              "      background-color: #E2EBFA;\n",
              "      box-shadow: 0px 1px 2px rgba(60, 64, 67, 0.3), 0px 1px 3px 1px rgba(60, 64, 67, 0.15);\n",
              "      fill: #174EA6;\n",
              "    }\n",
              "\n",
              "    [theme=dark] .colab-df-convert {\n",
              "      background-color: #3B4455;\n",
              "      fill: #D2E3FC;\n",
              "    }\n",
              "\n",
              "    [theme=dark] .colab-df-convert:hover {\n",
              "      background-color: #434B5C;\n",
              "      box-shadow: 0px 1px 3px 1px rgba(0, 0, 0, 0.15);\n",
              "      filter: drop-shadow(0px 1px 2px rgba(0, 0, 0, 0.3));\n",
              "      fill: #FFFFFF;\n",
              "    }\n",
              "  </style>\n",
              "\n",
              "      <script>\n",
              "        const buttonEl =\n",
              "          document.querySelector('#df-5117c3e4-6688-4fd1-943a-b62ec6128aaa button.colab-df-convert');\n",
              "        buttonEl.style.display =\n",
              "          google.colab.kernel.accessAllowed ? 'block' : 'none';\n",
              "\n",
              "        async function convertToInteractive(key) {\n",
              "          const element = document.querySelector('#df-5117c3e4-6688-4fd1-943a-b62ec6128aaa');\n",
              "          const dataTable =\n",
              "            await google.colab.kernel.invokeFunction('convertToInteractive',\n",
              "                                                     [key], {});\n",
              "          if (!dataTable) return;\n",
              "\n",
              "          const docLinkHtml = 'Like what you see? Visit the ' +\n",
              "            '<a target=\"_blank\" href=https://colab.research.google.com/notebooks/data_table.ipynb>data table notebook</a>'\n",
              "            + ' to learn more about interactive tables.';\n",
              "          element.innerHTML = '';\n",
              "          dataTable['output_type'] = 'display_data';\n",
              "          await google.colab.output.renderOutput(dataTable, element);\n",
              "          const docLink = document.createElement('div');\n",
              "          docLink.innerHTML = docLinkHtml;\n",
              "          element.appendChild(docLink);\n",
              "        }\n",
              "      </script>\n",
              "    </div>\n",
              "  </div>\n",
              "  "
            ]
          },
          "metadata": {},
          "execution_count": 2
        }
      ]
    },
    {
      "cell_type": "code",
      "source": [
        "df.info()"
      ],
      "metadata": {
        "colab": {
          "base_uri": "https://localhost:8080/"
        },
        "id": "TACo_n1ygGVj",
        "outputId": "68afe372-dc86-4a53-c50b-53a1030c3c17"
      },
      "execution_count": 3,
      "outputs": [
        {
          "output_type": "stream",
          "name": "stdout",
          "text": [
            "<class 'pandas.core.frame.DataFrame'>\n",
            "RangeIndex: 692703 entries, 0 to 692702\n",
            "Data columns (total 79 columns):\n",
            " #   Column                        Non-Null Count   Dtype  \n",
            "---  ------                        --------------   -----  \n",
            " 0    Destination Port             692703 non-null  int64  \n",
            " 1    Flow Duration                692703 non-null  int64  \n",
            " 2    Total Fwd Packets            692703 non-null  int64  \n",
            " 3    Total Backward Packets       692703 non-null  int64  \n",
            " 4   Total Length of Fwd Packets   692703 non-null  int64  \n",
            " 5    Total Length of Bwd Packets  692703 non-null  int64  \n",
            " 6    Fwd Packet Length Max        692703 non-null  int64  \n",
            " 7    Fwd Packet Length Min        692703 non-null  int64  \n",
            " 8    Fwd Packet Length Mean       692703 non-null  float64\n",
            " 9    Fwd Packet Length Std        692703 non-null  float64\n",
            " 10  Bwd Packet Length Max         692703 non-null  int64  \n",
            " 11   Bwd Packet Length Min        692703 non-null  int64  \n",
            " 12   Bwd Packet Length Mean       692703 non-null  float64\n",
            " 13   Bwd Packet Length Std        692703 non-null  float64\n",
            " 14  Flow Bytes/s                  691695 non-null  float64\n",
            " 15   Flow Packets/s               692703 non-null  float64\n",
            " 16   Flow IAT Mean                692703 non-null  float64\n",
            " 17   Flow IAT Std                 692703 non-null  float64\n",
            " 18   Flow IAT Max                 692703 non-null  int64  \n",
            " 19   Flow IAT Min                 692703 non-null  int64  \n",
            " 20  Fwd IAT Total                 692703 non-null  int64  \n",
            " 21   Fwd IAT Mean                 692703 non-null  float64\n",
            " 22   Fwd IAT Std                  692703 non-null  float64\n",
            " 23   Fwd IAT Max                  692703 non-null  int64  \n",
            " 24   Fwd IAT Min                  692703 non-null  int64  \n",
            " 25  Bwd IAT Total                 692703 non-null  int64  \n",
            " 26   Bwd IAT Mean                 692703 non-null  float64\n",
            " 27   Bwd IAT Std                  692703 non-null  float64\n",
            " 28   Bwd IAT Max                  692703 non-null  int64  \n",
            " 29   Bwd IAT Min                  692703 non-null  int64  \n",
            " 30  Fwd PSH Flags                 692703 non-null  int64  \n",
            " 31   Bwd PSH Flags                692703 non-null  int64  \n",
            " 32   Fwd URG Flags                692703 non-null  int64  \n",
            " 33   Bwd URG Flags                692703 non-null  int64  \n",
            " 34   Fwd Header Length            692703 non-null  int64  \n",
            " 35   Bwd Header Length            692703 non-null  int64  \n",
            " 36  Fwd Packets/s                 692703 non-null  float64\n",
            " 37   Bwd Packets/s                692703 non-null  float64\n",
            " 38   Min Packet Length            692703 non-null  int64  \n",
            " 39   Max Packet Length            692703 non-null  int64  \n",
            " 40   Packet Length Mean           692703 non-null  float64\n",
            " 41   Packet Length Std            692703 non-null  float64\n",
            " 42   Packet Length Variance       692703 non-null  float64\n",
            " 43  FIN Flag Count                692703 non-null  int64  \n",
            " 44   SYN Flag Count               692703 non-null  int64  \n",
            " 45   RST Flag Count               692703 non-null  int64  \n",
            " 46   PSH Flag Count               692703 non-null  int64  \n",
            " 47   ACK Flag Count               692703 non-null  int64  \n",
            " 48   URG Flag Count               692703 non-null  int64  \n",
            " 49   CWE Flag Count               692703 non-null  int64  \n",
            " 50   ECE Flag Count               692703 non-null  int64  \n",
            " 51   Down/Up Ratio                692703 non-null  int64  \n",
            " 52   Average Packet Size          692703 non-null  float64\n",
            " 53   Avg Fwd Segment Size         692703 non-null  float64\n",
            " 54   Avg Bwd Segment Size         692703 non-null  float64\n",
            " 55   Fwd Header Length.1          692703 non-null  int64  \n",
            " 56  Fwd Avg Bytes/Bulk            692703 non-null  int64  \n",
            " 57   Fwd Avg Packets/Bulk         692703 non-null  int64  \n",
            " 58   Fwd Avg Bulk Rate            692703 non-null  int64  \n",
            " 59   Bwd Avg Bytes/Bulk           692703 non-null  int64  \n",
            " 60   Bwd Avg Packets/Bulk         692703 non-null  int64  \n",
            " 61  Bwd Avg Bulk Rate             692703 non-null  int64  \n",
            " 62  Subflow Fwd Packets           692703 non-null  int64  \n",
            " 63   Subflow Fwd Bytes            692703 non-null  int64  \n",
            " 64   Subflow Bwd Packets          692703 non-null  int64  \n",
            " 65   Subflow Bwd Bytes            692703 non-null  int64  \n",
            " 66  Init_Win_bytes_forward        692703 non-null  int64  \n",
            " 67   Init_Win_bytes_backward      692703 non-null  int64  \n",
            " 68   act_data_pkt_fwd             692703 non-null  int64  \n",
            " 69   min_seg_size_forward         692703 non-null  int64  \n",
            " 70  Active Mean                   692703 non-null  float64\n",
            " 71   Active Std                   692703 non-null  float64\n",
            " 72   Active Max                   692703 non-null  int64  \n",
            " 73   Active Min                   692703 non-null  int64  \n",
            " 74  Idle Mean                     692703 non-null  float64\n",
            " 75   Idle Std                     692703 non-null  float64\n",
            " 76   Idle Max                     692703 non-null  int64  \n",
            " 77   Idle Min                     692703 non-null  int64  \n",
            " 78   Label                        692703 non-null  object \n",
            "dtypes: float64(24), int64(54), object(1)\n",
            "memory usage: 417.5+ MB\n"
          ]
        }
      ]
    },
    {
      "cell_type": "code",
      "source": [
        "df.describe()"
      ],
      "metadata": {
        "colab": {
          "base_uri": "https://localhost:8080/",
          "height": 428
        },
        "id": "sNAUpj6UgOm1",
        "outputId": "44779a2e-4107-4539-c245-2a05e91dbbb7"
      },
      "execution_count": 4,
      "outputs": [
        {
          "output_type": "execute_result",
          "data": {
            "text/plain": [
              "        Destination Port   Flow Duration   Total Fwd Packets  \\\n",
              "count      692703.000000    6.927030e+05       692703.000000   \n",
              "mean         5686.869462    2.800168e+07            9.556261   \n",
              "std         15727.423560    4.276680e+07          747.197814   \n",
              "min             0.000000   -1.000000e+00            1.000000   \n",
              "25%            53.000000    2.010000e+02            2.000000   \n",
              "50%            80.000000    6.143700e+04            2.000000   \n",
              "75%           443.000000    8.302437e+07            7.000000   \n",
              "max         65487.000000    1.200000e+08       203943.000000   \n",
              "\n",
              "        Total Backward Packets  Total Length of Fwd Packets  \\\n",
              "count            692703.000000                 6.927030e+05   \n",
              "mean                 10.214079                 5.550930e+02   \n",
              "std                 984.204633                 6.163663e+03   \n",
              "min                   0.000000                 0.000000e+00   \n",
              "25%                   1.000000                 1.200000e+01   \n",
              "50%                   2.000000                 8.200000e+01   \n",
              "75%                   6.000000                 3.650000e+02   \n",
              "max              272353.000000                 1.224076e+06   \n",
              "\n",
              "        Total Length of Bwd Packets   Fwd Packet Length Max  \\\n",
              "count                  6.927030e+05           692703.000000   \n",
              "mean                   1.699644e+04              233.593936   \n",
              "std                    2.241175e+06              603.751856   \n",
              "min                    0.000000e+00                0.000000   \n",
              "25%                    0.000000e+00                6.000000   \n",
              "50%                    1.880000e+02               46.000000   \n",
              "75%                    1.159500e+04              341.000000   \n",
              "max                    6.270000e+08            24820.000000   \n",
              "\n",
              "        Fwd Packet Length Min   Fwd Packet Length Mean  \\\n",
              "count           692703.000000            692703.000000   \n",
              "mean                15.022183                60.555440   \n",
              "std                 51.068835               157.643794   \n",
              "min                  0.000000                 0.000000   \n",
              "25%                  0.000000                 6.000000   \n",
              "50%                  0.000000                41.000000   \n",
              "75%                 32.000000                56.666667   \n",
              "max               2065.000000              4640.757576   \n",
              "\n",
              "        Fwd Packet Length Std  ...   act_data_pkt_fwd   min_seg_size_forward  \\\n",
              "count           692703.000000  ...      692703.000000          692703.000000   \n",
              "mean                82.895863  ...           6.121279              26.761141   \n",
              "std                226.126084  ...         715.155068               6.322368   \n",
              "min                  0.000000  ...           0.000000              -1.000000   \n",
              "25%                  0.000000  ...           0.000000              20.000000   \n",
              "50%                  0.000000  ...           1.000000              32.000000   \n",
              "75%                128.916917  ...           2.000000              32.000000   \n",
              "max               6429.190773  ...      197124.000000              60.000000   \n",
              "\n",
              "        Active Mean    Active Std    Active Max    Active Min     Idle Mean  \\\n",
              "count  6.927030e+05  6.927030e+05  6.927030e+05  6.927030e+05  6.927030e+05   \n",
              "mean   9.224478e+04  4.760852e+04  1.627363e+05  6.315186e+04  2.211122e+07   \n",
              "std    7.007049e+05  4.742081e+05  1.094616e+06  6.051023e+05  3.812415e+07   \n",
              "min    0.000000e+00  0.000000e+00  0.000000e+00  0.000000e+00  0.000000e+00   \n",
              "25%    0.000000e+00  0.000000e+00  0.000000e+00  0.000000e+00  0.000000e+00   \n",
              "50%    0.000000e+00  0.000000e+00  0.000000e+00  0.000000e+00  0.000000e+00   \n",
              "75%    9.910000e+02  0.000000e+00  9.910000e+02  9.880000e+02  1.590000e+07   \n",
              "max    1.000000e+08  7.420000e+07  1.050000e+08  1.000000e+08  1.200000e+08   \n",
              "\n",
              "           Idle Std      Idle Max      Idle Min  \n",
              "count  6.927030e+05  6.927030e+05  6.927030e+05  \n",
              "mean   4.743744e+05  2.252174e+07  2.173373e+07  \n",
              "std    4.488512e+06  3.848292e+07  3.807725e+07  \n",
              "min    0.000000e+00  0.000000e+00  0.000000e+00  \n",
              "25%    0.000000e+00  0.000000e+00  0.000000e+00  \n",
              "50%    0.000000e+00  0.000000e+00  0.000000e+00  \n",
              "75%    0.000000e+00  1.650000e+07  1.000000e+07  \n",
              "max    7.690000e+07  1.200000e+08  1.200000e+08  \n",
              "\n",
              "[8 rows x 78 columns]"
            ],
            "text/html": [
              "\n",
              "  <div id=\"df-d6136bd2-8aa7-4968-88aa-fda831637086\">\n",
              "    <div class=\"colab-df-container\">\n",
              "      <div>\n",
              "<style scoped>\n",
              "    .dataframe tbody tr th:only-of-type {\n",
              "        vertical-align: middle;\n",
              "    }\n",
              "\n",
              "    .dataframe tbody tr th {\n",
              "        vertical-align: top;\n",
              "    }\n",
              "\n",
              "    .dataframe thead th {\n",
              "        text-align: right;\n",
              "    }\n",
              "</style>\n",
              "<table border=\"1\" class=\"dataframe\">\n",
              "  <thead>\n",
              "    <tr style=\"text-align: right;\">\n",
              "      <th></th>\n",
              "      <th>Destination Port</th>\n",
              "      <th>Flow Duration</th>\n",
              "      <th>Total Fwd Packets</th>\n",
              "      <th>Total Backward Packets</th>\n",
              "      <th>Total Length of Fwd Packets</th>\n",
              "      <th>Total Length of Bwd Packets</th>\n",
              "      <th>Fwd Packet Length Max</th>\n",
              "      <th>Fwd Packet Length Min</th>\n",
              "      <th>Fwd Packet Length Mean</th>\n",
              "      <th>Fwd Packet Length Std</th>\n",
              "      <th>...</th>\n",
              "      <th>act_data_pkt_fwd</th>\n",
              "      <th>min_seg_size_forward</th>\n",
              "      <th>Active Mean</th>\n",
              "      <th>Active Std</th>\n",
              "      <th>Active Max</th>\n",
              "      <th>Active Min</th>\n",
              "      <th>Idle Mean</th>\n",
              "      <th>Idle Std</th>\n",
              "      <th>Idle Max</th>\n",
              "      <th>Idle Min</th>\n",
              "    </tr>\n",
              "  </thead>\n",
              "  <tbody>\n",
              "    <tr>\n",
              "      <th>count</th>\n",
              "      <td>692703.000000</td>\n",
              "      <td>6.927030e+05</td>\n",
              "      <td>692703.000000</td>\n",
              "      <td>692703.000000</td>\n",
              "      <td>6.927030e+05</td>\n",
              "      <td>6.927030e+05</td>\n",
              "      <td>692703.000000</td>\n",
              "      <td>692703.000000</td>\n",
              "      <td>692703.000000</td>\n",
              "      <td>692703.000000</td>\n",
              "      <td>...</td>\n",
              "      <td>692703.000000</td>\n",
              "      <td>692703.000000</td>\n",
              "      <td>6.927030e+05</td>\n",
              "      <td>6.927030e+05</td>\n",
              "      <td>6.927030e+05</td>\n",
              "      <td>6.927030e+05</td>\n",
              "      <td>6.927030e+05</td>\n",
              "      <td>6.927030e+05</td>\n",
              "      <td>6.927030e+05</td>\n",
              "      <td>6.927030e+05</td>\n",
              "    </tr>\n",
              "    <tr>\n",
              "      <th>mean</th>\n",
              "      <td>5686.869462</td>\n",
              "      <td>2.800168e+07</td>\n",
              "      <td>9.556261</td>\n",
              "      <td>10.214079</td>\n",
              "      <td>5.550930e+02</td>\n",
              "      <td>1.699644e+04</td>\n",
              "      <td>233.593936</td>\n",
              "      <td>15.022183</td>\n",
              "      <td>60.555440</td>\n",
              "      <td>82.895863</td>\n",
              "      <td>...</td>\n",
              "      <td>6.121279</td>\n",
              "      <td>26.761141</td>\n",
              "      <td>9.224478e+04</td>\n",
              "      <td>4.760852e+04</td>\n",
              "      <td>1.627363e+05</td>\n",
              "      <td>6.315186e+04</td>\n",
              "      <td>2.211122e+07</td>\n",
              "      <td>4.743744e+05</td>\n",
              "      <td>2.252174e+07</td>\n",
              "      <td>2.173373e+07</td>\n",
              "    </tr>\n",
              "    <tr>\n",
              "      <th>std</th>\n",
              "      <td>15727.423560</td>\n",
              "      <td>4.276680e+07</td>\n",
              "      <td>747.197814</td>\n",
              "      <td>984.204633</td>\n",
              "      <td>6.163663e+03</td>\n",
              "      <td>2.241175e+06</td>\n",
              "      <td>603.751856</td>\n",
              "      <td>51.068835</td>\n",
              "      <td>157.643794</td>\n",
              "      <td>226.126084</td>\n",
              "      <td>...</td>\n",
              "      <td>715.155068</td>\n",
              "      <td>6.322368</td>\n",
              "      <td>7.007049e+05</td>\n",
              "      <td>4.742081e+05</td>\n",
              "      <td>1.094616e+06</td>\n",
              "      <td>6.051023e+05</td>\n",
              "      <td>3.812415e+07</td>\n",
              "      <td>4.488512e+06</td>\n",
              "      <td>3.848292e+07</td>\n",
              "      <td>3.807725e+07</td>\n",
              "    </tr>\n",
              "    <tr>\n",
              "      <th>min</th>\n",
              "      <td>0.000000</td>\n",
              "      <td>-1.000000e+00</td>\n",
              "      <td>1.000000</td>\n",
              "      <td>0.000000</td>\n",
              "      <td>0.000000e+00</td>\n",
              "      <td>0.000000e+00</td>\n",
              "      <td>0.000000</td>\n",
              "      <td>0.000000</td>\n",
              "      <td>0.000000</td>\n",
              "      <td>0.000000</td>\n",
              "      <td>...</td>\n",
              "      <td>0.000000</td>\n",
              "      <td>-1.000000</td>\n",
              "      <td>0.000000e+00</td>\n",
              "      <td>0.000000e+00</td>\n",
              "      <td>0.000000e+00</td>\n",
              "      <td>0.000000e+00</td>\n",
              "      <td>0.000000e+00</td>\n",
              "      <td>0.000000e+00</td>\n",
              "      <td>0.000000e+00</td>\n",
              "      <td>0.000000e+00</td>\n",
              "    </tr>\n",
              "    <tr>\n",
              "      <th>25%</th>\n",
              "      <td>53.000000</td>\n",
              "      <td>2.010000e+02</td>\n",
              "      <td>2.000000</td>\n",
              "      <td>1.000000</td>\n",
              "      <td>1.200000e+01</td>\n",
              "      <td>0.000000e+00</td>\n",
              "      <td>6.000000</td>\n",
              "      <td>0.000000</td>\n",
              "      <td>6.000000</td>\n",
              "      <td>0.000000</td>\n",
              "      <td>...</td>\n",
              "      <td>0.000000</td>\n",
              "      <td>20.000000</td>\n",
              "      <td>0.000000e+00</td>\n",
              "      <td>0.000000e+00</td>\n",
              "      <td>0.000000e+00</td>\n",
              "      <td>0.000000e+00</td>\n",
              "      <td>0.000000e+00</td>\n",
              "      <td>0.000000e+00</td>\n",
              "      <td>0.000000e+00</td>\n",
              "      <td>0.000000e+00</td>\n",
              "    </tr>\n",
              "    <tr>\n",
              "      <th>50%</th>\n",
              "      <td>80.000000</td>\n",
              "      <td>6.143700e+04</td>\n",
              "      <td>2.000000</td>\n",
              "      <td>2.000000</td>\n",
              "      <td>8.200000e+01</td>\n",
              "      <td>1.880000e+02</td>\n",
              "      <td>46.000000</td>\n",
              "      <td>0.000000</td>\n",
              "      <td>41.000000</td>\n",
              "      <td>0.000000</td>\n",
              "      <td>...</td>\n",
              "      <td>1.000000</td>\n",
              "      <td>32.000000</td>\n",
              "      <td>0.000000e+00</td>\n",
              "      <td>0.000000e+00</td>\n",
              "      <td>0.000000e+00</td>\n",
              "      <td>0.000000e+00</td>\n",
              "      <td>0.000000e+00</td>\n",
              "      <td>0.000000e+00</td>\n",
              "      <td>0.000000e+00</td>\n",
              "      <td>0.000000e+00</td>\n",
              "    </tr>\n",
              "    <tr>\n",
              "      <th>75%</th>\n",
              "      <td>443.000000</td>\n",
              "      <td>8.302437e+07</td>\n",
              "      <td>7.000000</td>\n",
              "      <td>6.000000</td>\n",
              "      <td>3.650000e+02</td>\n",
              "      <td>1.159500e+04</td>\n",
              "      <td>341.000000</td>\n",
              "      <td>32.000000</td>\n",
              "      <td>56.666667</td>\n",
              "      <td>128.916917</td>\n",
              "      <td>...</td>\n",
              "      <td>2.000000</td>\n",
              "      <td>32.000000</td>\n",
              "      <td>9.910000e+02</td>\n",
              "      <td>0.000000e+00</td>\n",
              "      <td>9.910000e+02</td>\n",
              "      <td>9.880000e+02</td>\n",
              "      <td>1.590000e+07</td>\n",
              "      <td>0.000000e+00</td>\n",
              "      <td>1.650000e+07</td>\n",
              "      <td>1.000000e+07</td>\n",
              "    </tr>\n",
              "    <tr>\n",
              "      <th>max</th>\n",
              "      <td>65487.000000</td>\n",
              "      <td>1.200000e+08</td>\n",
              "      <td>203943.000000</td>\n",
              "      <td>272353.000000</td>\n",
              "      <td>1.224076e+06</td>\n",
              "      <td>6.270000e+08</td>\n",
              "      <td>24820.000000</td>\n",
              "      <td>2065.000000</td>\n",
              "      <td>4640.757576</td>\n",
              "      <td>6429.190773</td>\n",
              "      <td>...</td>\n",
              "      <td>197124.000000</td>\n",
              "      <td>60.000000</td>\n",
              "      <td>1.000000e+08</td>\n",
              "      <td>7.420000e+07</td>\n",
              "      <td>1.050000e+08</td>\n",
              "      <td>1.000000e+08</td>\n",
              "      <td>1.200000e+08</td>\n",
              "      <td>7.690000e+07</td>\n",
              "      <td>1.200000e+08</td>\n",
              "      <td>1.200000e+08</td>\n",
              "    </tr>\n",
              "  </tbody>\n",
              "</table>\n",
              "<p>8 rows × 78 columns</p>\n",
              "</div>\n",
              "      <button class=\"colab-df-convert\" onclick=\"convertToInteractive('df-d6136bd2-8aa7-4968-88aa-fda831637086')\"\n",
              "              title=\"Convert this dataframe to an interactive table.\"\n",
              "              style=\"display:none;\">\n",
              "        \n",
              "  <svg xmlns=\"http://www.w3.org/2000/svg\" height=\"24px\"viewBox=\"0 0 24 24\"\n",
              "       width=\"24px\">\n",
              "    <path d=\"M0 0h24v24H0V0z\" fill=\"none\"/>\n",
              "    <path d=\"M18.56 5.44l.94 2.06.94-2.06 2.06-.94-2.06-.94-.94-2.06-.94 2.06-2.06.94zm-11 1L8.5 8.5l.94-2.06 2.06-.94-2.06-.94L8.5 2.5l-.94 2.06-2.06.94zm10 10l.94 2.06.94-2.06 2.06-.94-2.06-.94-.94-2.06-.94 2.06-2.06.94z\"/><path d=\"M17.41 7.96l-1.37-1.37c-.4-.4-.92-.59-1.43-.59-.52 0-1.04.2-1.43.59L10.3 9.45l-7.72 7.72c-.78.78-.78 2.05 0 2.83L4 21.41c.39.39.9.59 1.41.59.51 0 1.02-.2 1.41-.59l7.78-7.78 2.81-2.81c.8-.78.8-2.07 0-2.86zM5.41 20L4 18.59l7.72-7.72 1.47 1.35L5.41 20z\"/>\n",
              "  </svg>\n",
              "      </button>\n",
              "      \n",
              "  <style>\n",
              "    .colab-df-container {\n",
              "      display:flex;\n",
              "      flex-wrap:wrap;\n",
              "      gap: 12px;\n",
              "    }\n",
              "\n",
              "    .colab-df-convert {\n",
              "      background-color: #E8F0FE;\n",
              "      border: none;\n",
              "      border-radius: 50%;\n",
              "      cursor: pointer;\n",
              "      display: none;\n",
              "      fill: #1967D2;\n",
              "      height: 32px;\n",
              "      padding: 0 0 0 0;\n",
              "      width: 32px;\n",
              "    }\n",
              "\n",
              "    .colab-df-convert:hover {\n",
              "      background-color: #E2EBFA;\n",
              "      box-shadow: 0px 1px 2px rgba(60, 64, 67, 0.3), 0px 1px 3px 1px rgba(60, 64, 67, 0.15);\n",
              "      fill: #174EA6;\n",
              "    }\n",
              "\n",
              "    [theme=dark] .colab-df-convert {\n",
              "      background-color: #3B4455;\n",
              "      fill: #D2E3FC;\n",
              "    }\n",
              "\n",
              "    [theme=dark] .colab-df-convert:hover {\n",
              "      background-color: #434B5C;\n",
              "      box-shadow: 0px 1px 3px 1px rgba(0, 0, 0, 0.15);\n",
              "      filter: drop-shadow(0px 1px 2px rgba(0, 0, 0, 0.3));\n",
              "      fill: #FFFFFF;\n",
              "    }\n",
              "  </style>\n",
              "\n",
              "      <script>\n",
              "        const buttonEl =\n",
              "          document.querySelector('#df-d6136bd2-8aa7-4968-88aa-fda831637086 button.colab-df-convert');\n",
              "        buttonEl.style.display =\n",
              "          google.colab.kernel.accessAllowed ? 'block' : 'none';\n",
              "\n",
              "        async function convertToInteractive(key) {\n",
              "          const element = document.querySelector('#df-d6136bd2-8aa7-4968-88aa-fda831637086');\n",
              "          const dataTable =\n",
              "            await google.colab.kernel.invokeFunction('convertToInteractive',\n",
              "                                                     [key], {});\n",
              "          if (!dataTable) return;\n",
              "\n",
              "          const docLinkHtml = 'Like what you see? Visit the ' +\n",
              "            '<a target=\"_blank\" href=https://colab.research.google.com/notebooks/data_table.ipynb>data table notebook</a>'\n",
              "            + ' to learn more about interactive tables.';\n",
              "          element.innerHTML = '';\n",
              "          dataTable['output_type'] = 'display_data';\n",
              "          await google.colab.output.renderOutput(dataTable, element);\n",
              "          const docLink = document.createElement('div');\n",
              "          docLink.innerHTML = docLinkHtml;\n",
              "          element.appendChild(docLink);\n",
              "        }\n",
              "      </script>\n",
              "    </div>\n",
              "  </div>\n",
              "  "
            ]
          },
          "metadata": {},
          "execution_count": 4
        }
      ]
    },
    {
      "cell_type": "code",
      "source": [
        "df.isna().any()[lambda x:x]"
      ],
      "metadata": {
        "colab": {
          "base_uri": "https://localhost:8080/"
        },
        "id": "Chy76ATLgUK-",
        "outputId": "0eff4564-4847-447d-c043-c618ff309b38"
      },
      "execution_count": 5,
      "outputs": [
        {
          "output_type": "execute_result",
          "data": {
            "text/plain": [
              "Flow Bytes/s    True\n",
              "dtype: bool"
            ]
          },
          "metadata": {},
          "execution_count": 5
        }
      ]
    },
    {
      "cell_type": "code",
      "source": [
        "del df['Flow Bytes/s']"
      ],
      "metadata": {
        "id": "c6Xr9PVegZM6"
      },
      "execution_count": 6,
      "outputs": []
    },
    {
      "cell_type": "code",
      "source": [
        "del df[' Flow Packets/s']"
      ],
      "metadata": {
        "id": "eP5JTlp9geVp"
      },
      "execution_count": 7,
      "outputs": []
    },
    {
      "cell_type": "code",
      "source": [
        "df.shape"
      ],
      "metadata": {
        "colab": {
          "base_uri": "https://localhost:8080/"
        },
        "id": "vNpOWBmighWv",
        "outputId": "029d65c9-3ca2-494d-ff4e-a51520d3ebbc"
      },
      "execution_count": 8,
      "outputs": [
        {
          "output_type": "execute_result",
          "data": {
            "text/plain": [
              "(692703, 77)"
            ]
          },
          "metadata": {},
          "execution_count": 8
        }
      ]
    },
    {
      "cell_type": "code",
      "source": [
        "df.info()"
      ],
      "metadata": {
        "colab": {
          "base_uri": "https://localhost:8080/"
        },
        "id": "21rDlbUkgmLC",
        "outputId": "f4ee20c2-0b48-466a-c84d-906ffb1af7f4"
      },
      "execution_count": 9,
      "outputs": [
        {
          "output_type": "stream",
          "name": "stdout",
          "text": [
            "<class 'pandas.core.frame.DataFrame'>\n",
            "RangeIndex: 692703 entries, 0 to 692702\n",
            "Data columns (total 77 columns):\n",
            " #   Column                        Non-Null Count   Dtype  \n",
            "---  ------                        --------------   -----  \n",
            " 0    Destination Port             692703 non-null  int64  \n",
            " 1    Flow Duration                692703 non-null  int64  \n",
            " 2    Total Fwd Packets            692703 non-null  int64  \n",
            " 3    Total Backward Packets       692703 non-null  int64  \n",
            " 4   Total Length of Fwd Packets   692703 non-null  int64  \n",
            " 5    Total Length of Bwd Packets  692703 non-null  int64  \n",
            " 6    Fwd Packet Length Max        692703 non-null  int64  \n",
            " 7    Fwd Packet Length Min        692703 non-null  int64  \n",
            " 8    Fwd Packet Length Mean       692703 non-null  float64\n",
            " 9    Fwd Packet Length Std        692703 non-null  float64\n",
            " 10  Bwd Packet Length Max         692703 non-null  int64  \n",
            " 11   Bwd Packet Length Min        692703 non-null  int64  \n",
            " 12   Bwd Packet Length Mean       692703 non-null  float64\n",
            " 13   Bwd Packet Length Std        692703 non-null  float64\n",
            " 14   Flow IAT Mean                692703 non-null  float64\n",
            " 15   Flow IAT Std                 692703 non-null  float64\n",
            " 16   Flow IAT Max                 692703 non-null  int64  \n",
            " 17   Flow IAT Min                 692703 non-null  int64  \n",
            " 18  Fwd IAT Total                 692703 non-null  int64  \n",
            " 19   Fwd IAT Mean                 692703 non-null  float64\n",
            " 20   Fwd IAT Std                  692703 non-null  float64\n",
            " 21   Fwd IAT Max                  692703 non-null  int64  \n",
            " 22   Fwd IAT Min                  692703 non-null  int64  \n",
            " 23  Bwd IAT Total                 692703 non-null  int64  \n",
            " 24   Bwd IAT Mean                 692703 non-null  float64\n",
            " 25   Bwd IAT Std                  692703 non-null  float64\n",
            " 26   Bwd IAT Max                  692703 non-null  int64  \n",
            " 27   Bwd IAT Min                  692703 non-null  int64  \n",
            " 28  Fwd PSH Flags                 692703 non-null  int64  \n",
            " 29   Bwd PSH Flags                692703 non-null  int64  \n",
            " 30   Fwd URG Flags                692703 non-null  int64  \n",
            " 31   Bwd URG Flags                692703 non-null  int64  \n",
            " 32   Fwd Header Length            692703 non-null  int64  \n",
            " 33   Bwd Header Length            692703 non-null  int64  \n",
            " 34  Fwd Packets/s                 692703 non-null  float64\n",
            " 35   Bwd Packets/s                692703 non-null  float64\n",
            " 36   Min Packet Length            692703 non-null  int64  \n",
            " 37   Max Packet Length            692703 non-null  int64  \n",
            " 38   Packet Length Mean           692703 non-null  float64\n",
            " 39   Packet Length Std            692703 non-null  float64\n",
            " 40   Packet Length Variance       692703 non-null  float64\n",
            " 41  FIN Flag Count                692703 non-null  int64  \n",
            " 42   SYN Flag Count               692703 non-null  int64  \n",
            " 43   RST Flag Count               692703 non-null  int64  \n",
            " 44   PSH Flag Count               692703 non-null  int64  \n",
            " 45   ACK Flag Count               692703 non-null  int64  \n",
            " 46   URG Flag Count               692703 non-null  int64  \n",
            " 47   CWE Flag Count               692703 non-null  int64  \n",
            " 48   ECE Flag Count               692703 non-null  int64  \n",
            " 49   Down/Up Ratio                692703 non-null  int64  \n",
            " 50   Average Packet Size          692703 non-null  float64\n",
            " 51   Avg Fwd Segment Size         692703 non-null  float64\n",
            " 52   Avg Bwd Segment Size         692703 non-null  float64\n",
            " 53   Fwd Header Length.1          692703 non-null  int64  \n",
            " 54  Fwd Avg Bytes/Bulk            692703 non-null  int64  \n",
            " 55   Fwd Avg Packets/Bulk         692703 non-null  int64  \n",
            " 56   Fwd Avg Bulk Rate            692703 non-null  int64  \n",
            " 57   Bwd Avg Bytes/Bulk           692703 non-null  int64  \n",
            " 58   Bwd Avg Packets/Bulk         692703 non-null  int64  \n",
            " 59  Bwd Avg Bulk Rate             692703 non-null  int64  \n",
            " 60  Subflow Fwd Packets           692703 non-null  int64  \n",
            " 61   Subflow Fwd Bytes            692703 non-null  int64  \n",
            " 62   Subflow Bwd Packets          692703 non-null  int64  \n",
            " 63   Subflow Bwd Bytes            692703 non-null  int64  \n",
            " 64  Init_Win_bytes_forward        692703 non-null  int64  \n",
            " 65   Init_Win_bytes_backward      692703 non-null  int64  \n",
            " 66   act_data_pkt_fwd             692703 non-null  int64  \n",
            " 67   min_seg_size_forward         692703 non-null  int64  \n",
            " 68  Active Mean                   692703 non-null  float64\n",
            " 69   Active Std                   692703 non-null  float64\n",
            " 70   Active Max                   692703 non-null  int64  \n",
            " 71   Active Min                   692703 non-null  int64  \n",
            " 72  Idle Mean                     692703 non-null  float64\n",
            " 73   Idle Std                     692703 non-null  float64\n",
            " 74   Idle Max                     692703 non-null  int64  \n",
            " 75   Idle Min                     692703 non-null  int64  \n",
            " 76   Label                        692703 non-null  object \n",
            "dtypes: float64(22), int64(54), object(1)\n",
            "memory usage: 406.9+ MB\n"
          ]
        }
      ]
    },
    {
      "cell_type": "code",
      "source": [
        "moddf= df.dropna()\n",
        "moddf.shape"
      ],
      "metadata": {
        "colab": {
          "base_uri": "https://localhost:8080/"
        },
        "id": "dq9OV9Ozgotb",
        "outputId": "76381967-aad9-4016-fa03-0d9dc0280b78"
      },
      "execution_count": 10,
      "outputs": [
        {
          "output_type": "execute_result",
          "data": {
            "text/plain": [
              "(692703, 77)"
            ]
          },
          "metadata": {},
          "execution_count": 10
        }
      ]
    },
    {
      "cell_type": "code",
      "source": [
        "from sklearn.model_selection import train_test_split\n",
        "df_train, df_test=train_test_split(moddf,test_size = 0.20)\n",
        "print(df_train.shape)\n",
        "print(df_test.shape)"
      ],
      "metadata": {
        "colab": {
          "base_uri": "https://localhost:8080/"
        },
        "id": "ZL3_k6FnguIN",
        "outputId": "061d5664-9da6-49fa-d5c9-c52bde2d3358"
      },
      "execution_count": 11,
      "outputs": [
        {
          "output_type": "stream",
          "name": "stdout",
          "text": [
            "(554162, 77)\n",
            "(138541, 77)\n"
          ]
        }
      ]
    },
    {
      "cell_type": "code",
      "source": [
        "print('Label distribution Training set:')\n",
        "print(df_train[' Label'].value_counts())\n",
        "print()\n",
        "print(df_test[' Label'].value_counts())\n",
        "print()"
      ],
      "metadata": {
        "colab": {
          "base_uri": "https://localhost:8080/"
        },
        "id": "FI36T1GHgyd4",
        "outputId": "56afb94e-77f2-417a-9249-b46dccfee120"
      },
      "execution_count": 12,
      "outputs": [
        {
          "output_type": "stream",
          "name": "stdout",
          "text": [
            "Label distribution Training set:\n",
            "BENIGN              352242\n",
            "DoS Hulk            184699\n",
            "DoS GoldenEye         8195\n",
            "DoS slowloris         4603\n",
            "DoS Slowhttptest      4412\n",
            "Heartbleed              11\n",
            "Name:  Label, dtype: int64\n",
            "\n",
            "BENIGN              87789\n",
            "DoS Hulk            46374\n",
            "DoS GoldenEye        2098\n",
            "DoS slowloris        1193\n",
            "DoS Slowhttptest     1087\n",
            "Name:  Label, dtype: int64\n",
            "\n"
          ]
        }
      ]
    },
    {
      "cell_type": "code",
      "source": [
        "labeldf=df_train[' Label']\n",
        "labeldf_test=df_test[' Label']\n",
        "#change the label column\n",
        "newlabeldf=labeldf.replace({ 'BENIGN' : 0, 'DoS Hulk' : 1, 'DoS GoldenEye' : 1, 'DoS slowloris' : 1, \n",
        "                            'DoS Slowhttptest' : 1, 'Heartbleed' : 1})\n",
        "newlabeldf_test=labeldf_test.replace({ 'BENIGN' : 0, 'DoS Hulk' : 1, 'DoS GoldenEye' : 1, 'DoS slowloris' : 1, \n",
        "                            'DoS Slowhttptest' : 1, 'Heartbleed' : 1})\n",
        "# put the new label column back\n",
        "df_train[' Label'] = newlabeldf\n",
        "df_test[' Label'] = newlabeldf_test\n",
        "print(df_train[' Label'].head())\n",
        "print(df_test[' Label'].head())"
      ],
      "metadata": {
        "colab": {
          "base_uri": "https://localhost:8080/"
        },
        "id": "XmmaBFabhDWG",
        "outputId": "cae78e5c-16af-4887-bfa8-7c5c72d2d193"
      },
      "execution_count": 13,
      "outputs": [
        {
          "output_type": "stream",
          "name": "stdout",
          "text": [
            "385858    0\n",
            "209219    1\n",
            "264018    1\n",
            "588255    1\n",
            "324553    0\n",
            "Name:  Label, dtype: int64\n",
            "145653    1\n",
            "458831    0\n",
            "562834    0\n",
            "99767     1\n",
            "6164      0\n",
            "Name:  Label, dtype: int64\n"
          ]
        }
      ]
    },
    {
      "cell_type": "code",
      "source": [
        "X_df_train=df_train.drop(' Label',1)\n",
        "Y_df_train=df_train[' Label']\n",
        "X_df_test=df_test.drop(' Label',1)\n",
        "Y_df_test=df_test[' Label']\n",
        "X_df_train\n",
        "Y_df_train"
      ],
      "metadata": {
        "colab": {
          "base_uri": "https://localhost:8080/"
        },
        "id": "GtHrpWTghJ3z",
        "outputId": "1da0f0f1-a2f9-469a-f8ed-38aee7525e8f"
      },
      "execution_count": 14,
      "outputs": [
        {
          "output_type": "stream",
          "name": "stderr",
          "text": [
            "<ipython-input-14-033567ad6a45>:1: FutureWarning: In a future version of pandas all arguments of DataFrame.drop except for the argument 'labels' will be keyword-only.\n",
            "  X_df_train=df_train.drop(' Label',1)\n",
            "<ipython-input-14-033567ad6a45>:3: FutureWarning: In a future version of pandas all arguments of DataFrame.drop except for the argument 'labels' will be keyword-only.\n",
            "  X_df_test=df_test.drop(' Label',1)\n"
          ]
        },
        {
          "output_type": "execute_result",
          "data": {
            "text/plain": [
              "385858    0\n",
              "209219    1\n",
              "264018    1\n",
              "588255    1\n",
              "324553    0\n",
              "         ..\n",
              "103718    0\n",
              "2209      0\n",
              "3359      0\n",
              "492948    0\n",
              "128244    1\n",
              "Name:  Label, Length: 554162, dtype: int64"
            ]
          },
          "metadata": {},
          "execution_count": 14
        }
      ]
    },
    {
      "cell_type": "code",
      "source": [
        "colNames=list(X_df_train)\n",
        "colNames_test=list(X_df_test)\n",
        "X_df_train.shape\n",
        "print(colNames)"
      ],
      "metadata": {
        "colab": {
          "base_uri": "https://localhost:8080/"
        },
        "id": "g5A6YZK5hObw",
        "outputId": "65747b81-a3ee-4114-8e2a-039dbb74085b"
      },
      "execution_count": 15,
      "outputs": [
        {
          "output_type": "stream",
          "name": "stdout",
          "text": [
            "[' Destination Port', ' Flow Duration', ' Total Fwd Packets', ' Total Backward Packets', 'Total Length of Fwd Packets', ' Total Length of Bwd Packets', ' Fwd Packet Length Max', ' Fwd Packet Length Min', ' Fwd Packet Length Mean', ' Fwd Packet Length Std', 'Bwd Packet Length Max', ' Bwd Packet Length Min', ' Bwd Packet Length Mean', ' Bwd Packet Length Std', ' Flow IAT Mean', ' Flow IAT Std', ' Flow IAT Max', ' Flow IAT Min', 'Fwd IAT Total', ' Fwd IAT Mean', ' Fwd IAT Std', ' Fwd IAT Max', ' Fwd IAT Min', 'Bwd IAT Total', ' Bwd IAT Mean', ' Bwd IAT Std', ' Bwd IAT Max', ' Bwd IAT Min', 'Fwd PSH Flags', ' Bwd PSH Flags', ' Fwd URG Flags', ' Bwd URG Flags', ' Fwd Header Length', ' Bwd Header Length', 'Fwd Packets/s', ' Bwd Packets/s', ' Min Packet Length', ' Max Packet Length', ' Packet Length Mean', ' Packet Length Std', ' Packet Length Variance', 'FIN Flag Count', ' SYN Flag Count', ' RST Flag Count', ' PSH Flag Count', ' ACK Flag Count', ' URG Flag Count', ' CWE Flag Count', ' ECE Flag Count', ' Down/Up Ratio', ' Average Packet Size', ' Avg Fwd Segment Size', ' Avg Bwd Segment Size', ' Fwd Header Length.1', 'Fwd Avg Bytes/Bulk', ' Fwd Avg Packets/Bulk', ' Fwd Avg Bulk Rate', ' Bwd Avg Bytes/Bulk', ' Bwd Avg Packets/Bulk', 'Bwd Avg Bulk Rate', 'Subflow Fwd Packets', ' Subflow Fwd Bytes', ' Subflow Bwd Packets', ' Subflow Bwd Bytes', 'Init_Win_bytes_forward', ' Init_Win_bytes_backward', ' act_data_pkt_fwd', ' min_seg_size_forward', 'Active Mean', ' Active Std', ' Active Max', ' Active Min', 'Idle Mean', ' Idle Std', ' Idle Max', ' Idle Min']\n"
          ]
        }
      ]
    },
    {
      "cell_type": "code",
      "source": [
        "print(X_df_train)\n",
        "from sklearn import preprocessing\n",
        "scaler1 = preprocessing.StandardScaler().fit(X_df_train)\n",
        "X_df_train=scaler1.transform(X_df_train) \n",
        "# test data\n",
        "scaler2 = preprocessing.StandardScaler().fit(X_df_test)\n",
        "X_df_test=scaler2.transform(X_df_test) "
      ],
      "metadata": {
        "colab": {
          "base_uri": "https://localhost:8080/"
        },
        "id": "dQ3SjsDRhURz",
        "outputId": "0508fa9b-9ad5-44ea-9884-e3f74fc4b064"
      },
      "execution_count": 16,
      "outputs": [
        {
          "output_type": "stream",
          "name": "stdout",
          "text": [
            "         Destination Port   Flow Duration   Total Fwd Packets  \\\n",
            "385858                 80       115358582                  16   \n",
            "209219                 80        98490172                   6   \n",
            "264018                 80        99571617                   7   \n",
            "588255                 80        10068936                   8   \n",
            "324553                 80       118225975                  17   \n",
            "...                   ...             ...                 ...   \n",
            "103718                 53           60366                   1   \n",
            "2209                  443             192                   2   \n",
            "3359                   53           59757                   1   \n",
            "492948                 53           30582                   1   \n",
            "128244                 80        98426661                   5   \n",
            "\n",
            "         Total Backward Packets  Total Length of Fwd Packets  \\\n",
            "385858                       14                          434   \n",
            "209219                        5                          327   \n",
            "264018                        6                          362   \n",
            "588255                        5                          429   \n",
            "324553                       16                          932   \n",
            "...                         ...                          ...   \n",
            "103718                        1                           51   \n",
            "2209                          0                           12   \n",
            "3359                          1                           56   \n",
            "492948                        1                           62   \n",
            "128244                        7                          362   \n",
            "\n",
            "         Total Length of Bwd Packets   Fwd Packet Length Max  \\\n",
            "385858                          1950                     434   \n",
            "209219                         11595                     327   \n",
            "264018                         11595                     356   \n",
            "588255                         11680                     429   \n",
            "324553                          3560                     424   \n",
            "...                              ...                     ...   \n",
            "103718                            67                      51   \n",
            "2209                               0                       6   \n",
            "3359                              84                      56   \n",
            "492948                            90                      62   \n",
            "128244                         11595                     350   \n",
            "\n",
            "         Fwd Packet Length Min   Fwd Packet Length Mean  \\\n",
            "385858                       0                27.125000   \n",
            "209219                       0                54.500000   \n",
            "264018                       0                51.714286   \n",
            "588255                       0                53.625000   \n",
            "324553                       0                54.823529   \n",
            "...                        ...                      ...   \n",
            "103718                      51                51.000000   \n",
            "2209                         6                 6.000000   \n",
            "3359                        56                56.000000   \n",
            "492948                      62                62.000000   \n",
            "128244                       0                72.400000   \n",
            "\n",
            "         Fwd Packet Length Std  ...   act_data_pkt_fwd   min_seg_size_forward  \\\n",
            "385858              108.500000  ...                  1                     32   \n",
            "209219              133.497191  ...                  1                     32   \n",
            "264018              134.196019  ...                  2                     20   \n",
            "588255              151.674405  ...                  1                     32   \n",
            "324553              138.960532  ...                 16                     20   \n",
            "...                        ...  ...                ...                    ...   \n",
            "103718                0.000000  ...                  0                     20   \n",
            "2209                  0.000000  ...                  1                     20   \n",
            "3359                  0.000000  ...                  0                     20   \n",
            "492948                0.000000  ...                  0                     20   \n",
            "128244              155.212113  ...                  2                     20   \n",
            "\n",
            "        Active Mean   Active Std   Active Max   Active Min     Idle Mean  \\\n",
            "385858  37249.90909  12042.53732        73554        33297  1.020000e+07   \n",
            "209219      4.00000      0.00000            4            4  9.850000e+07   \n",
            "264018     12.00000      0.00000           12           12  9.960000e+07   \n",
            "588255    924.00000      0.00000          924          924  5.063419e+06   \n",
            "324553  44586.91667  23737.09264       119475        36666  9.804502e+06   \n",
            "...             ...          ...          ...          ...           ...   \n",
            "103718      0.00000      0.00000            0            0  0.000000e+00   \n",
            "2209        0.00000      0.00000            0            0  0.000000e+00   \n",
            "3359        0.00000      0.00000            0            0  0.000000e+00   \n",
            "492948      0.00000      0.00000            0            0  0.000000e+00   \n",
            "128244  11953.00000      0.00000        11953        11953  9.840000e+07   \n",
            "\n",
            "            Idle Std   Idle Max   Idle Min  \n",
            "385858   42652.26832   10200000   10100000  \n",
            "209219       0.00000   98500000   98500000  \n",
            "264018       0.00000   99600000   99600000  \n",
            "588255       0.00000    5063419    5063419  \n",
            "324553  710234.66730   10000000    7549224  \n",
            "...              ...        ...        ...  \n",
            "103718       0.00000          0          0  \n",
            "2209         0.00000          0          0  \n",
            "3359         0.00000          0          0  \n",
            "492948       0.00000          0          0  \n",
            "128244       0.00000   98400000   98400000  \n",
            "\n",
            "[554162 rows x 76 columns]\n"
          ]
        }
      ]
    },
    {
      "cell_type": "code",
      "source": [
        "print(X_df_train.std(axis=0))"
      ],
      "metadata": {
        "colab": {
          "base_uri": "https://localhost:8080/"
        },
        "id": "uzJm-KL2hYPU",
        "outputId": "8dbdfe6c-5855-4062-a4db-80bba0128e98"
      },
      "execution_count": 17,
      "outputs": [
        {
          "output_type": "stream",
          "name": "stdout",
          "text": [
            "[1. 1. 1. 1. 1. 1. 1. 1. 1. 1. 1. 1. 1. 1. 1. 1. 1. 1. 1. 1. 1. 1. 1. 1.\n",
            " 1. 1. 1. 1. 1. 0. 0. 0. 1. 1. 1. 1. 1. 1. 1. 1. 1. 1. 1. 1. 1. 1. 1. 0.\n",
            " 1. 1. 1. 1. 1. 1. 0. 0. 0. 0. 0. 0. 1. 1. 1. 1. 1. 1. 1. 1. 1. 1. 1. 1.\n",
            " 1. 1. 1. 1.]\n"
          ]
        }
      ]
    },
    {
      "cell_type": "code",
      "source": [
        "from sklearn.feature_selection import SelectPercentile, f_classif\n",
        "np.seterr(divide='ignore', invalid='ignore')\n",
        "selector=SelectPercentile(f_classif, percentile=10)\n",
        "X_newdf_train = selector.fit_transform(X_df_train,Y_df_train)\n",
        "X_newdf_train.shape"
      ],
      "metadata": {
        "colab": {
          "base_uri": "https://localhost:8080/"
        },
        "id": "YR2v1N__hfLf",
        "outputId": "f134a4cf-0355-4945-b4e3-6261e772a7df"
      },
      "execution_count": 18,
      "outputs": [
        {
          "output_type": "stream",
          "name": "stderr",
          "text": [
            "/usr/local/lib/python3.9/dist-packages/sklearn/feature_selection/_univariate_selection.py:112: UserWarning: Features [29 30 31 47 54 55 56 57 58 59] are constant.\n",
            "  warnings.warn(\"Features %s are constant.\" % constant_features_idx, UserWarning)\n"
          ]
        },
        {
          "output_type": "execute_result",
          "data": {
            "text/plain": [
              "(554162, 8)"
            ]
          },
          "metadata": {},
          "execution_count": 18
        }
      ]
    },
    {
      "cell_type": "code",
      "source": [
        "true=selector.get_support()\n",
        "newcolindex_DoS=[i for i, x in enumerate(true) if x]\n",
        "newcolname_DoS=list( colNames[i] for i in newcolindex_DoS )\n",
        "newcolname_DoS"
      ],
      "metadata": {
        "colab": {
          "base_uri": "https://localhost:8080/"
        },
        "id": "Y6QEi3ZEhitv",
        "outputId": "740989f1-552a-49ff-fdf9-8a8d22cdb466"
      },
      "execution_count": 19,
      "outputs": [
        {
          "output_type": "execute_result",
          "data": {
            "text/plain": [
              "['Bwd Packet Length Max',\n",
              " ' Bwd Packet Length Mean',\n",
              " ' Bwd Packet Length Std',\n",
              " ' Fwd IAT Std',\n",
              " ' Fwd IAT Max',\n",
              " ' Packet Length Std',\n",
              " ' Avg Bwd Segment Size',\n",
              " ' Idle Max']"
            ]
          },
          "metadata": {},
          "execution_count": 19
        }
      ]
    },
    {
      "cell_type": "code",
      "source": [
        "print('Features selected for DoS:',newcolname_DoS)"
      ],
      "metadata": {
        "colab": {
          "base_uri": "https://localhost:8080/"
        },
        "id": "zu7ziTVyhmjQ",
        "outputId": "c9119e00-7fee-4615-9412-9d0ebb66a6c8"
      },
      "execution_count": 20,
      "outputs": [
        {
          "output_type": "stream",
          "name": "stdout",
          "text": [
            "Features selected for DoS: ['Bwd Packet Length Max', ' Bwd Packet Length Mean', ' Bwd Packet Length Std', ' Fwd IAT Std', ' Fwd IAT Max', ' Packet Length Std', ' Avg Bwd Segment Size', ' Idle Max']\n"
          ]
        }
      ]
    },
    {
      "cell_type": "code",
      "source": [
        "from sklearn import preprocessing\n",
        "from sklearn import utils\n",
        "\n",
        "lab_enc = preprocessing.LabelEncoder()\n",
        "Y_df_train = lab_enc.fit_transform(Y_df_train)"
      ],
      "metadata": {
        "id": "TOmPc_P2huUB"
      },
      "execution_count": 21,
      "outputs": []
    },
    {
      "cell_type": "code",
      "source": [
        "Y_df_train=Y_df_train.astype('int')"
      ],
      "metadata": {
        "id": "-IauPv7KhzvJ"
      },
      "execution_count": 22,
      "outputs": []
    },
    {
      "cell_type": "code",
      "source": [
        "from sklearn.feature_selection import RFE\n",
        "from sklearn.tree import DecisionTreeClassifier\n",
        "# Create a decision tree classifier. By convention, clf means 'classifier'\n",
        "clf = DecisionTreeClassifier(random_state=0)\n",
        "\n",
        "#rank all features, i.e continue the elimination until the last one\n",
        "rfe = RFE(clf, n_features_to_select=1)\n",
        "rfe.fit(X_newdf_train, Y_df_train)\n",
        "print (\"DoS Features sorted by their rank:\")\n",
        "print (sorted(zip(map(lambda x: round(x, 1), rfe.ranking_), newcolname_DoS)))"
      ],
      "metadata": {
        "colab": {
          "base_uri": "https://localhost:8080/"
        },
        "id": "jVOpfT0mh5bF",
        "outputId": "226a498b-009d-4dbf-f1f8-f569cd87d2bf"
      },
      "execution_count": 23,
      "outputs": [
        {
          "output_type": "stream",
          "name": "stdout",
          "text": [
            "DoS Features sorted by their rank:\n",
            "[(1, ' Bwd Packet Length Std'), (2, ' Avg Bwd Segment Size'), (3, ' Fwd IAT Max'), (4, ' Packet Length Std'), (5, ' Fwd IAT Std'), (6, ' Idle Max'), (7, 'Bwd Packet Length Max'), (8, ' Bwd Packet Length Mean')]\n"
          ]
        }
      ]
    },
    {
      "cell_type": "code",
      "source": [
        "from sklearn.model_selection import train_test_split\n",
        "X_train,X_test,Y_train,Y_test = train_test_split(X_newdf_train, Y_df_train, train_size=0.70, random_state=2)"
      ],
      "metadata": {
        "id": "gZX-ONXth86i"
      },
      "execution_count": 24,
      "outputs": []
    },
    {
      "cell_type": "code",
      "source": [
        "from sklearn.svm import SVC\n",
        "from sklearn.metrics import classification_report, accuracy_score\n",
        "\n",
        "#RFC Model\n",
        "\n",
        "model_rfe = RFE(clf, n_features_to_select=3)\n",
        "model_rfe.fit(X_newdf_train, Y_df_train)\n",
        "y_pred_rfe = model_rfe.predict(X_test)\n",
        "print(classification_report(Y_test, y_pred_rfe))"
      ],
      "metadata": {
        "colab": {
          "base_uri": "https://localhost:8080/"
        },
        "id": "bF9fYkrZiFj4",
        "outputId": "ebe10b2d-1e74-4718-99a9-88c87b1a5883"
      },
      "execution_count": 25,
      "outputs": [
        {
          "output_type": "stream",
          "name": "stdout",
          "text": [
            "              precision    recall  f1-score   support\n",
            "\n",
            "           0       0.84      1.00      0.91    105534\n",
            "           1       1.00      0.66      0.79     60715\n",
            "\n",
            "    accuracy                           0.87    166249\n",
            "   macro avg       0.92      0.83      0.85    166249\n",
            "weighted avg       0.89      0.87      0.87    166249\n",
            "\n"
          ]
        }
      ]
    },
    {
      "cell_type": "code",
      "source": [
        "import itertools\n",
        "from sklearn.metrics import classification_report, confusion_matrix, accuracy_score\n",
        "#===========================CONSTRUCTING THE CONFUSION MATRIX=============================#\n",
        "def plot_confusion_matrix(cm, classes, normalize=True, title='Confusion matrix', cmap=plt.cm.Reds):\n",
        "    \n",
        "    plt.figure(figsize=(10,10))\n",
        "    plt.imshow(cm, interpolation='nearest', cmap=cmap)\n",
        "    plt.title(title)\n",
        "    plt.colorbar()\n",
        "    tick_marks = np.arange(len(classes))\n",
        "    plt.xticks(tick_marks, classes, rotation=45)\n",
        "    plt.yticks(tick_marks, classes)\n",
        "    if normalize:\n",
        "        cm = cm.astype('float') / cm.sum(axis=1)[:, np.newaxis]\n",
        "        cm = np.around(cm, decimals=2)\n",
        "        cm[np.isnan(cm)] = 0.0\n",
        "    thresh = cm.max() / 2.\n",
        "    for i, j in itertools.product(range(cm.shape[0]), range(cm.shape[1])):\n",
        "        plt.text(j, i, cm[i, j],\n",
        "                 horizontalalignment=\"center\",\n",
        "                 color=\"white\" if cm[i, j] > thresh else \"black\")\n",
        "    plt.tight_layout()\n",
        "    plt.ylabel('True label')\n",
        "    plt.xlabel('Predicted label')\n",
        "cm = confusion_matrix(Y_test, y_pred_rfe)\n",
        "target_names = [\"Intrusion detected\", \"Intrusion Not Detected\"]\n",
        "plot_confusion_matrix(cm, target_names, normalize=False, title='Confusion Matrix')\n",
        "accuracy_score(Y_test, y_pred_rfe)"
      ],
      "metadata": {
        "colab": {
          "base_uri": "https://localhost:8080/",
          "height": 931
        },
        "id": "n-oSNc78iRsC",
        "outputId": "8e59c1c6-1bbb-4c35-da6e-c1e3226919f6"
      },
      "execution_count": 27,
      "outputs": [
        {
          "output_type": "execute_result",
          "data": {
            "text/plain": [
              "0.8740684154491155"
            ]
          },
          "metadata": {},
          "execution_count": 27
        },
        {
          "output_type": "display_data",
          "data": {
            "text/plain": [
              "<Figure size 1000x1000 with 2 Axes>"
            ],
            "image/png": "[encoded data removed]"
          },
          "metadata": {}
        }
      ]
    },
    {
      "cell_type": "code",
      "source": [
        "from sklearn.metrics import roc_curve, roc_auc_score\n",
        "# plot for RFC\n",
        "false_positive_rate1, true_positive_rate1, threshold1 = roc_curve(Y_test, y_pred_rfe)\n",
        "print('roc_auc_score for RFC: ', roc_auc_score(Y_test, y_pred_rfe))\n",
        "\n",
        "plt.subplots(1, figsize=(10,10))\n",
        "plt.title('Receiver Operating Characteristic - SVM')\n",
        "plt.plot(false_positive_rate1, true_positive_rate1)\n",
        "plt.plot([0, 1], ls=\"--\")\n",
        "plt.plot([0, 0], [1, 0] , c=\".7\"), plt.plot([1, 1] , c=\".7\")\n",
        "plt.ylabel('True Positive Rate')\n",
        "plt.xlabel('False Positive Rate')\n",
        "plt.show()"
      ],
      "metadata": {
        "colab": {
          "base_uri": "https://localhost:8080/",
          "height": 889
        },
        "id": "vXOrMYoDioYN",
        "outputId": "375a3cdd-b78b-4130-c786-7d45d47d1095"
      },
      "execution_count": 28,
      "outputs": [
        {
          "output_type": "stream",
          "name": "stdout",
          "text": [
            "roc_auc_score for RFC:  0.8281544875244347\n"
          ]
        },
        {
          "output_type": "display_data",
          "data": {
            "text/plain": [
              "<Figure size 1000x1000 with 1 Axes>"
            ],
            "image/png": "[encoded data removed]"
          },
          "metadata": {}
        }
      ]
    },
    {
      "cell_type": "code",
      "source": [],
      "metadata": {
        "id": "MYBmlkJFiykL"
      },
      "execution_count": null,
      "outputs": []
    }
  ]
}