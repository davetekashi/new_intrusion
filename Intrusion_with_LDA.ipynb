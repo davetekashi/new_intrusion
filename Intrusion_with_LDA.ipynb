{
  "nbformat": 4,
  "nbformat_minor": 0,
  "metadata": {
    "colab": {
      "provenance": []
    },
    "kernelspec": {
      "name": "python3",
      "display_name": "Python 3"
    },
    "language_info": {
      "name": "python"
    }
  },
  "cells": [
    {
      "cell_type": "code",
      "execution_count": 1,
      "metadata": {
        "id": "Wyj9UpGigP1M"
      },
      "outputs": [],
      "source": [
        "import numpy as np\n",
        "import pandas as pd\n",
        "import seaborn as sns\n",
        "import matplotlib.pyplot as plt"
      ]
    },
    {
      "cell_type": "code",
      "source": [
        "df = pd.read_csv('/content/wednesday.csv')\n",
        "df"
      ],
      "metadata": {
        "colab": {
          "base_uri": "https://localhost:8080/",
          "height": 540
        },
        "id": "xsz6U6XRkI9T",
        "outputId": "f71d6ac8-392a-42e9-aa2d-a052bf09abc8"
      },
      "execution_count": 2,
      "outputs": [
        {
          "output_type": "execute_result",
          "data": {
            "text/plain": [
              "         Destination Port   Flow Duration   Total Fwd Packets  \\\n",
              "0                      80           38308                   1   \n",
              "1                     389             479                  11   \n",
              "2                      88            1095                  10   \n",
              "3                     389           15206                  17   \n",
              "4                      88            1092                   9   \n",
              "...                   ...             ...                 ...   \n",
              "522372              52364               3                   2   \n",
              "522373                 53             399                   2   \n",
              "522374              43435              36                   1   \n",
              "522375                 53       111519866                   4   \n",
              "522376              50671              49                   1   \n",
              "\n",
              "         Total Backward Packets  Total Length of Fwd Packets  \\\n",
              "0                             1                            6   \n",
              "1                             5                          172   \n",
              "2                             6                         3150   \n",
              "3                            12                         3452   \n",
              "4                             6                         3150   \n",
              "...                         ...                          ...   \n",
              "522372                        0                           12   \n",
              "522373                        2                           80   \n",
              "522374                        1                            0   \n",
              "522375                        4                          166   \n",
              "522376                        1                            6   \n",
              "\n",
              "         Total Length of Bwd Packets   Fwd Packet Length Max  \\\n",
              "0                                  6                       6   \n",
              "1                                326                      79   \n",
              "2                               3150                    1575   \n",
              "3                               6660                    1313   \n",
              "4                               3152                    1575   \n",
              "...                              ...                     ...   \n",
              "522372                             0                       6   \n",
              "522373                           180                      40   \n",
              "522374                             0                       0   \n",
              "522375                           466                      52   \n",
              "522376                             6                       6   \n",
              "\n",
              "         Fwd Packet Length Min   Fwd Packet Length Mean  \\\n",
              "0                            6                 6.000000   \n",
              "1                            0                15.636364   \n",
              "2                            0               315.000000   \n",
              "3                            0               203.058823   \n",
              "4                            0               350.000000   \n",
              "...                        ...                      ...   \n",
              "522372                       6                 6.000000   \n",
              "522373                      40                40.000000   \n",
              "522374                       0                 0.000000   \n",
              "522375                      31                41.500000   \n",
              "522376                       6                 6.000000   \n",
              "\n",
              "         Fwd Packet Length Std  ...   min_seg_size_forward  Active Mean  \\\n",
              "0                     0.000000  ...                   20.0          0.0   \n",
              "1                    31.449238  ...                   32.0          0.0   \n",
              "2                   632.561635  ...                   32.0          0.0   \n",
              "3                   425.778474  ...                   32.0          0.0   \n",
              "4                   694.509719  ...                   32.0          0.0   \n",
              "...                        ...  ...                    ...          ...   \n",
              "522372                0.000000  ...                   20.0          0.0   \n",
              "522373                0.000000  ...                   20.0          0.0   \n",
              "522374                0.000000  ...                   32.0          0.0   \n",
              "522375               12.124356  ...                   32.0        213.0   \n",
              "522376                0.000000  ...                    NaN          NaN   \n",
              "\n",
              "         Active Std   Active Max   Active Min    Idle Mean   Idle Std  \\\n",
              "0               0.0          0.0          0.0          0.0        0.0   \n",
              "1               0.0          0.0          0.0          0.0        0.0   \n",
              "2               0.0          0.0          0.0          0.0        0.0   \n",
              "3               0.0          0.0          0.0          0.0        0.0   \n",
              "4               0.0          0.0          0.0          0.0        0.0   \n",
              "...             ...          ...          ...          ...        ...   \n",
              "522372          0.0          0.0          0.0          0.0        0.0   \n",
              "522373          0.0          0.0          0.0          0.0        0.0   \n",
              "522374          0.0          0.0          0.0          0.0        0.0   \n",
              "522375          0.0        213.0        213.0  111000000.0        0.0   \n",
              "522376          NaN          NaN          NaN          NaN        NaN   \n",
              "\n",
              "           Idle Max     Idle Min   Label  \n",
              "0               0.0          0.0  BENIGN  \n",
              "1               0.0          0.0  BENIGN  \n",
              "2               0.0          0.0  BENIGN  \n",
              "3               0.0          0.0  BENIGN  \n",
              "4               0.0          0.0  BENIGN  \n",
              "...             ...          ...     ...  \n",
              "522372          0.0          0.0  BENIGN  \n",
              "522373          0.0          0.0  BENIGN  \n",
              "522374          0.0          0.0  BENIGN  \n",
              "522375  111000000.0  111000000.0  BENIGN  \n",
              "522376          NaN          NaN     NaN  \n",
              "\n",
              "[522377 rows x 79 columns]"
            ],
            "text/html": [
              "\n",
              "  <div id=\"df-21d1dc5c-8030-4250-95f9-294d8c3dc949\">\n",
              "    <div class=\"colab-df-container\">\n",
              "      <div>\n",
              "<style scoped>\n",
              "    .dataframe tbody tr th:only-of-type {\n",
              "        vertical-align: middle;\n",
              "    }\n",
              "\n",
              "    .dataframe tbody tr th {\n",
              "        vertical-align: top;\n",
              "    }\n",
              "\n",
              "    .dataframe thead th {\n",
              "        text-align: right;\n",
              "    }\n",
              "</style>\n",
              "<table border=\"1\" class=\"dataframe\">\n",
              "  <thead>\n",
              "    <tr style=\"text-align: right;\">\n",
              "      <th></th>\n",
              "      <th>Destination Port</th>\n",
              "      <th>Flow Duration</th>\n",
              "      <th>Total Fwd Packets</th>\n",
              "      <th>Total Backward Packets</th>\n",
              "      <th>Total Length of Fwd Packets</th>\n",
              "      <th>Total Length of Bwd Packets</th>\n",
              "      <th>Fwd Packet Length Max</th>\n",
              "      <th>Fwd Packet Length Min</th>\n",
              "      <th>Fwd Packet Length Mean</th>\n",
              "      <th>Fwd Packet Length Std</th>\n",
              "      <th>...</th>\n",
              "      <th>min_seg_size_forward</th>\n",
              "      <th>Active Mean</th>\n",
              "      <th>Active Std</th>\n",
              "      <th>Active Max</th>\n",
              "      <th>Active Min</th>\n",
              "      <th>Idle Mean</th>\n",
              "      <th>Idle Std</th>\n",
              "      <th>Idle Max</th>\n",
              "      <th>Idle Min</th>\n",
              "      <th>Label</th>\n",
              "    </tr>\n",
              "  </thead>\n",
              "  <tbody>\n",
              "    <tr>\n",
              "      <th>0</th>\n",
              "      <td>80</td>\n",
              "      <td>38308</td>\n",
              "      <td>1</td>\n",
              "      <td>1</td>\n",
              "      <td>6</td>\n",
              "      <td>6</td>\n",
              "      <td>6</td>\n",
              "      <td>6</td>\n",
              "      <td>6.000000</td>\n",
              "      <td>0.000000</td>\n",
              "      <td>...</td>\n",
              "      <td>20.0</td>\n",
              "      <td>0.0</td>\n",
              "      <td>0.0</td>\n",
              "      <td>0.0</td>\n",
              "      <td>0.0</td>\n",
              "      <td>0.0</td>\n",
              "      <td>0.0</td>\n",
              "      <td>0.0</td>\n",
              "      <td>0.0</td>\n",
              "      <td>BENIGN</td>\n",
              "    </tr>\n",
              "    <tr>\n",
              "      <th>1</th>\n",
              "      <td>389</td>\n",
              "      <td>479</td>\n",
              "      <td>11</td>\n",
              "      <td>5</td>\n",
              "      <td>172</td>\n",
              "      <td>326</td>\n",
              "      <td>79</td>\n",
              "      <td>0</td>\n",
              "      <td>15.636364</td>\n",
              "      <td>31.449238</td>\n",
              "      <td>...</td>\n",
              "      <td>32.0</td>\n",
              "      <td>0.0</td>\n",
              "      <td>0.0</td>\n",
              "      <td>0.0</td>\n",
              "      <td>0.0</td>\n",
              "      <td>0.0</td>\n",
              "      <td>0.0</td>\n",
              "      <td>0.0</td>\n",
              "      <td>0.0</td>\n",
              "      <td>BENIGN</td>\n",
              "    </tr>\n",
              "    <tr>\n",
              "      <th>2</th>\n",
              "      <td>88</td>\n",
              "      <td>1095</td>\n",
              "      <td>10</td>\n",
              "      <td>6</td>\n",
              "      <td>3150</td>\n",
              "      <td>3150</td>\n",
              "      <td>1575</td>\n",
              "      <td>0</td>\n",
              "      <td>315.000000</td>\n",
              "      <td>632.561635</td>\n",
              "      <td>...</td>\n",
              "      <td>32.0</td>\n",
              "      <td>0.0</td>\n",
              "      <td>0.0</td>\n",
              "      <td>0.0</td>\n",
              "      <td>0.0</td>\n",
              "      <td>0.0</td>\n",
              "      <td>0.0</td>\n",
              "      <td>0.0</td>\n",
              "      <td>0.0</td>\n",
              "      <td>BENIGN</td>\n",
              "    </tr>\n",
              "    <tr>\n",
              "      <th>3</th>\n",
              "      <td>389</td>\n",
              "      <td>15206</td>\n",
              "      <td>17</td>\n",
              "      <td>12</td>\n",
              "      <td>3452</td>\n",
              "      <td>6660</td>\n",
              "      <td>1313</td>\n",
              "      <td>0</td>\n",
              "      <td>203.058823</td>\n",
              "      <td>425.778474</td>\n",
              "      <td>...</td>\n",
              "      <td>32.0</td>\n",
              "      <td>0.0</td>\n",
              "      <td>0.0</td>\n",
              "      <td>0.0</td>\n",
              "      <td>0.0</td>\n",
              "      <td>0.0</td>\n",
              "      <td>0.0</td>\n",
              "      <td>0.0</td>\n",
              "      <td>0.0</td>\n",
              "      <td>BENIGN</td>\n",
              "    </tr>\n",
              "    <tr>\n",
              "      <th>4</th>\n",
              "      <td>88</td>\n",
              "      <td>1092</td>\n",
              "      <td>9</td>\n",
              "      <td>6</td>\n",
              "      <td>3150</td>\n",
              "      <td>3152</td>\n",
              "      <td>1575</td>\n",
              "      <td>0</td>\n",
              "      <td>350.000000</td>\n",
              "      <td>694.509719</td>\n",
              "      <td>...</td>\n",
              "      <td>32.0</td>\n",
              "      <td>0.0</td>\n",
              "      <td>0.0</td>\n",
              "      <td>0.0</td>\n",
              "      <td>0.0</td>\n",
              "      <td>0.0</td>\n",
              "      <td>0.0</td>\n",
              "      <td>0.0</td>\n",
              "      <td>0.0</td>\n",
              "      <td>BENIGN</td>\n",
              "    </tr>\n",
              "    <tr>\n",
              "      <th>...</th>\n",
              "      <td>...</td>\n",
              "      <td>...</td>\n",
              "      <td>...</td>\n",
              "      <td>...</td>\n",
              "      <td>...</td>\n",
              "      <td>...</td>\n",
              "      <td>...</td>\n",
              "      <td>...</td>\n",
              "      <td>...</td>\n",
              "      <td>...</td>\n",
              "      <td>...</td>\n",
              "      <td>...</td>\n",
              "      <td>...</td>\n",
              "      <td>...</td>\n",
              "      <td>...</td>\n",
              "      <td>...</td>\n",
              "      <td>...</td>\n",
              "      <td>...</td>\n",
              "      <td>...</td>\n",
              "      <td>...</td>\n",
              "      <td>...</td>\n",
              "    </tr>\n",
              "    <tr>\n",
              "      <th>522372</th>\n",
              "      <td>52364</td>\n",
              "      <td>3</td>\n",
              "      <td>2</td>\n",
              "      <td>0</td>\n",
              "      <td>12</td>\n",
              "      <td>0</td>\n",
              "      <td>6</td>\n",
              "      <td>6</td>\n",
              "      <td>6.000000</td>\n",
              "      <td>0.000000</td>\n",
              "      <td>...</td>\n",
              "      <td>20.0</td>\n",
              "      <td>0.0</td>\n",
              "      <td>0.0</td>\n",
              "      <td>0.0</td>\n",
              "      <td>0.0</td>\n",
              "      <td>0.0</td>\n",
              "      <td>0.0</td>\n",
              "      <td>0.0</td>\n",
              "      <td>0.0</td>\n",
              "      <td>BENIGN</td>\n",
              "    </tr>\n",
              "    <tr>\n",
              "      <th>522373</th>\n",
              "      <td>53</td>\n",
              "      <td>399</td>\n",
              "      <td>2</td>\n",
              "      <td>2</td>\n",
              "      <td>80</td>\n",
              "      <td>180</td>\n",
              "      <td>40</td>\n",
              "      <td>40</td>\n",
              "      <td>40.000000</td>\n",
              "      <td>0.000000</td>\n",
              "      <td>...</td>\n",
              "      <td>20.0</td>\n",
              "      <td>0.0</td>\n",
              "      <td>0.0</td>\n",
              "      <td>0.0</td>\n",
              "      <td>0.0</td>\n",
              "      <td>0.0</td>\n",
              "      <td>0.0</td>\n",
              "      <td>0.0</td>\n",
              "      <td>0.0</td>\n",
              "      <td>BENIGN</td>\n",
              "    </tr>\n",
              "    <tr>\n",
              "      <th>522374</th>\n",
              "      <td>43435</td>\n",
              "      <td>36</td>\n",
              "      <td>1</td>\n",
              "      <td>1</td>\n",
              "      <td>0</td>\n",
              "      <td>0</td>\n",
              "      <td>0</td>\n",
              "      <td>0</td>\n",
              "      <td>0.000000</td>\n",
              "      <td>0.000000</td>\n",
              "      <td>...</td>\n",
              "      <td>32.0</td>\n",
              "      <td>0.0</td>\n",
              "      <td>0.0</td>\n",
              "      <td>0.0</td>\n",
              "      <td>0.0</td>\n",
              "      <td>0.0</td>\n",
              "      <td>0.0</td>\n",
              "      <td>0.0</td>\n",
              "      <td>0.0</td>\n",
              "      <td>BENIGN</td>\n",
              "    </tr>\n",
              "    <tr>\n",
              "      <th>522375</th>\n",
              "      <td>53</td>\n",
              "      <td>111519866</td>\n",
              "      <td>4</td>\n",
              "      <td>4</td>\n",
              "      <td>166</td>\n",
              "      <td>466</td>\n",
              "      <td>52</td>\n",
              "      <td>31</td>\n",
              "      <td>41.500000</td>\n",
              "      <td>12.124356</td>\n",
              "      <td>...</td>\n",
              "      <td>32.0</td>\n",
              "      <td>213.0</td>\n",
              "      <td>0.0</td>\n",
              "      <td>213.0</td>\n",
              "      <td>213.0</td>\n",
              "      <td>111000000.0</td>\n",
              "      <td>0.0</td>\n",
              "      <td>111000000.0</td>\n",
              "      <td>111000000.0</td>\n",
              "      <td>BENIGN</td>\n",
              "    </tr>\n",
              "    <tr>\n",
              "      <th>522376</th>\n",
              "      <td>50671</td>\n",
              "      <td>49</td>\n",
              "      <td>1</td>\n",
              "      <td>1</td>\n",
              "      <td>6</td>\n",
              "      <td>6</td>\n",
              "      <td>6</td>\n",
              "      <td>6</td>\n",
              "      <td>6.000000</td>\n",
              "      <td>0.000000</td>\n",
              "      <td>...</td>\n",
              "      <td>NaN</td>\n",
              "      <td>NaN</td>\n",
              "      <td>NaN</td>\n",
              "      <td>NaN</td>\n",
              "      <td>NaN</td>\n",
              "      <td>NaN</td>\n",
              "      <td>NaN</td>\n",
              "      <td>NaN</td>\n",
              "      <td>NaN</td>\n",
              "      <td>NaN</td>\n",
              "    </tr>\n",
              "  </tbody>\n",
              "</table>\n",
              "<p>522377 rows × 79 columns</p>\n",
              "</div>\n",
              "      <button class=\"colab-df-convert\" onclick=\"convertToInteractive('df-21d1dc5c-8030-4250-95f9-294d8c3dc949')\"\n",
              "              title=\"Convert this dataframe to an interactive table.\"\n",
              "              style=\"display:none;\">\n",
              "        \n",
              "  <svg xmlns=\"http://www.w3.org/2000/svg\" height=\"24px\"viewBox=\"0 0 24 24\"\n",
              "       width=\"24px\">\n",
              "    <path d=\"M0 0h24v24H0V0z\" fill=\"none\"/>\n",
              "    <path d=\"M18.56 5.44l.94 2.06.94-2.06 2.06-.94-2.06-.94-.94-2.06-.94 2.06-2.06.94zm-11 1L8.5 8.5l.94-2.06 2.06-.94-2.06-.94L8.5 2.5l-.94 2.06-2.06.94zm10 10l.94 2.06.94-2.06 2.06-.94-2.06-.94-.94-2.06-.94 2.06-2.06.94z\"/><path d=\"M17.41 7.96l-1.37-1.37c-.4-.4-.92-.59-1.43-.59-.52 0-1.04.2-1.43.59L10.3 9.45l-7.72 7.72c-.78.78-.78 2.05 0 2.83L4 21.41c.39.39.9.59 1.41.59.51 0 1.02-.2 1.41-.59l7.78-7.78 2.81-2.81c.8-.78.8-2.07 0-2.86zM5.41 20L4 18.59l7.72-7.72 1.47 1.35L5.41 20z\"/>\n",
              "  </svg>\n",
              "      </button>\n",
              "      \n",
              "  <style>\n",
              "    .colab-df-container {\n",
              "      display:flex;\n",
              "      flex-wrap:wrap;\n",
              "      gap: 12px;\n",
              "    }\n",
              "\n",
              "    .colab-df-convert {\n",
              "      background-color: #E8F0FE;\n",
              "      border: none;\n",
              "      border-radius: 50%;\n",
              "      cursor: pointer;\n",
              "      display: none;\n",
              "      fill: #1967D2;\n",
              "      height: 32px;\n",
              "      padding: 0 0 0 0;\n",
              "      width: 32px;\n",
              "    }\n",
              "\n",
              "    .colab-df-convert:hover {\n",
              "      background-color: #E2EBFA;\n",
              "      box-shadow: 0px 1px 2px rgba(60, 64, 67, 0.3), 0px 1px 3px 1px rgba(60, 64, 67, 0.15);\n",
              "      fill: #174EA6;\n",
              "    }\n",
              "\n",
              "    [theme=dark] .colab-df-convert {\n",
              "      background-color: #3B4455;\n",
              "      fill: #D2E3FC;\n",
              "    }\n",
              "\n",
              "    [theme=dark] .colab-df-convert:hover {\n",
              "      background-color: #434B5C;\n",
              "      box-shadow: 0px 1px 3px 1px rgba(0, 0, 0, 0.15);\n",
              "      filter: drop-shadow(0px 1px 2px rgba(0, 0, 0, 0.3));\n",
              "      fill: #FFFFFF;\n",
              "    }\n",
              "  </style>\n",
              "\n",
              "      <script>\n",
              "        const buttonEl =\n",
              "          document.querySelector('#df-21d1dc5c-8030-4250-95f9-294d8c3dc949 button.colab-df-convert');\n",
              "        buttonEl.style.display =\n",
              "          google.colab.kernel.accessAllowed ? 'block' : 'none';\n",
              "\n",
              "        async function convertToInteractive(key) {\n",
              "          const element = document.querySelector('#df-21d1dc5c-8030-4250-95f9-294d8c3dc949');\n",
              "          const dataTable =\n",
              "            await google.colab.kernel.invokeFunction('convertToInteractive',\n",
              "                                                     [key], {});\n",
              "          if (!dataTable) return;\n",
              "\n",
              "          const docLinkHtml = 'Like what you see? Visit the ' +\n",
              "            '<a target=\"_blank\" href=https://colab.research.google.com/notebooks/data_table.ipynb>data table notebook</a>'\n",
              "            + ' to learn more about interactive tables.';\n",
              "          element.innerHTML = '';\n",
              "          dataTable['output_type'] = 'display_data';\n",
              "          await google.colab.output.renderOutput(dataTable, element);\n",
              "          const docLink = document.createElement('div');\n",
              "          docLink.innerHTML = docLinkHtml;\n",
              "          element.appendChild(docLink);\n",
              "        }\n",
              "      </script>\n",
              "    </div>\n",
              "  </div>\n",
              "  "
            ]
          },
          "metadata": {},
          "execution_count": 2
        }
      ]
    },
    {
      "cell_type": "code",
      "source": [
        "df.info()"
      ],
      "metadata": {
        "colab": {
          "base_uri": "https://localhost:8080/"
        },
        "id": "KiV56aGOkSSQ",
        "outputId": "9ccef639-6689-4fd6-acc2-07dae96b248f"
      },
      "execution_count": 3,
      "outputs": [
        {
          "output_type": "stream",
          "name": "stdout",
          "text": [
            "<class 'pandas.core.frame.DataFrame'>\n",
            "RangeIndex: 522377 entries, 0 to 522376\n",
            "Data columns (total 79 columns):\n",
            " #   Column                        Non-Null Count   Dtype  \n",
            "---  ------                        --------------   -----  \n",
            " 0    Destination Port             522377 non-null  int64  \n",
            " 1    Flow Duration                522377 non-null  int64  \n",
            " 2    Total Fwd Packets            522377 non-null  int64  \n",
            " 3    Total Backward Packets       522377 non-null  int64  \n",
            " 4   Total Length of Fwd Packets   522377 non-null  int64  \n",
            " 5    Total Length of Bwd Packets  522377 non-null  int64  \n",
            " 6    Fwd Packet Length Max        522377 non-null  int64  \n",
            " 7    Fwd Packet Length Min        522377 non-null  int64  \n",
            " 8    Fwd Packet Length Mean       522377 non-null  float64\n",
            " 9    Fwd Packet Length Std        522377 non-null  float64\n",
            " 10  Bwd Packet Length Max         522377 non-null  int64  \n",
            " 11   Bwd Packet Length Min        522377 non-null  int64  \n",
            " 12   Bwd Packet Length Mean       522377 non-null  float64\n",
            " 13   Bwd Packet Length Std        522377 non-null  float64\n",
            " 14  Flow Bytes/s                  521379 non-null  float64\n",
            " 15   Flow Packets/s               522377 non-null  float64\n",
            " 16   Flow IAT Mean                522376 non-null  float64\n",
            " 17   Flow IAT Std                 522376 non-null  float64\n",
            " 18   Flow IAT Max                 522376 non-null  float64\n",
            " 19   Flow IAT Min                 522376 non-null  float64\n",
            " 20  Fwd IAT Total                 522376 non-null  float64\n",
            " 21   Fwd IAT Mean                 522376 non-null  float64\n",
            " 22   Fwd IAT Std                  522376 non-null  float64\n",
            " 23   Fwd IAT Max                  522376 non-null  float64\n",
            " 24   Fwd IAT Min                  522376 non-null  float64\n",
            " 25  Bwd IAT Total                 522376 non-null  float64\n",
            " 26   Bwd IAT Mean                 522376 non-null  float64\n",
            " 27   Bwd IAT Std                  522376 non-null  float64\n",
            " 28   Bwd IAT Max                  522376 non-null  float64\n",
            " 29   Bwd IAT Min                  522376 non-null  float64\n",
            " 30  Fwd PSH Flags                 522376 non-null  float64\n",
            " 31   Bwd PSH Flags                522376 non-null  float64\n",
            " 32   Fwd URG Flags                522376 non-null  float64\n",
            " 33   Bwd URG Flags                522376 non-null  float64\n",
            " 34   Fwd Header Length            522376 non-null  float64\n",
            " 35   Bwd Header Length            522376 non-null  float64\n",
            " 36  Fwd Packets/s                 522376 non-null  float64\n",
            " 37   Bwd Packets/s                522376 non-null  float64\n",
            " 38   Min Packet Length            522376 non-null  float64\n",
            " 39   Max Packet Length            522376 non-null  float64\n",
            " 40   Packet Length Mean           522376 non-null  float64\n",
            " 41   Packet Length Std            522376 non-null  float64\n",
            " 42   Packet Length Variance       522376 non-null  float64\n",
            " 43  FIN Flag Count                522376 non-null  float64\n",
            " 44   SYN Flag Count               522376 non-null  float64\n",
            " 45   RST Flag Count               522376 non-null  float64\n",
            " 46   PSH Flag Count               522376 non-null  float64\n",
            " 47   ACK Flag Count               522376 non-null  float64\n",
            " 48   URG Flag Count               522376 non-null  float64\n",
            " 49   CWE Flag Count               522376 non-null  float64\n",
            " 50   ECE Flag Count               522376 non-null  float64\n",
            " 51   Down/Up Ratio                522376 non-null  float64\n",
            " 52   Average Packet Size          522376 non-null  float64\n",
            " 53   Avg Fwd Segment Size         522376 non-null  float64\n",
            " 54   Avg Bwd Segment Size         522376 non-null  float64\n",
            " 55   Fwd Header Length.1          522376 non-null  float64\n",
            " 56  Fwd Avg Bytes/Bulk            522376 non-null  float64\n",
            " 57   Fwd Avg Packets/Bulk         522376 non-null  float64\n",
            " 58   Fwd Avg Bulk Rate            522376 non-null  float64\n",
            " 59   Bwd Avg Bytes/Bulk           522376 non-null  float64\n",
            " 60   Bwd Avg Packets/Bulk         522376 non-null  float64\n",
            " 61  Bwd Avg Bulk Rate             522376 non-null  float64\n",
            " 62  Subflow Fwd Packets           522376 non-null  float64\n",
            " 63   Subflow Fwd Bytes            522376 non-null  float64\n",
            " 64   Subflow Bwd Packets          522376 non-null  float64\n",
            " 65   Subflow Bwd Bytes            522376 non-null  float64\n",
            " 66  Init_Win_bytes_forward        522376 non-null  float64\n",
            " 67   Init_Win_bytes_backward      522376 non-null  float64\n",
            " 68   act_data_pkt_fwd             522376 non-null  float64\n",
            " 69   min_seg_size_forward         522376 non-null  float64\n",
            " 70  Active Mean                   522376 non-null  float64\n",
            " 71   Active Std                   522376 non-null  float64\n",
            " 72   Active Max                   522376 non-null  float64\n",
            " 73   Active Min                   522376 non-null  float64\n",
            " 74  Idle Mean                     522376 non-null  float64\n",
            " 75   Idle Std                     522376 non-null  float64\n",
            " 76   Idle Max                     522376 non-null  float64\n",
            " 77   Idle Min                     522376 non-null  float64\n",
            " 78   Label                        522376 non-null  object \n",
            "dtypes: float64(68), int64(10), object(1)\n",
            "memory usage: 314.8+ MB\n"
          ]
        }
      ]
    },
    {
      "cell_type": "code",
      "source": [
        "df.describe()"
      ],
      "metadata": {
        "colab": {
          "base_uri": "https://localhost:8080/",
          "height": 428
        },
        "id": "hRs2zK3cy-ax",
        "outputId": "4f064ee5-6361-476a-acf2-d89c4260b7da"
      },
      "execution_count": 4,
      "outputs": [
        {
          "output_type": "execute_result",
          "data": {
            "text/plain": [
              "        Destination Port   Flow Duration   Total Fwd Packets  \\\n",
              "count      522377.000000    5.223770e+05       522377.000000   \n",
              "mean         3945.818262    3.628076e+07           11.751042   \n",
              "std         13283.363808    4.577061e+07          860.127275   \n",
              "min             0.000000   -1.000000e+00            1.000000   \n",
              "25%            80.000000    9.880000e+02            2.000000   \n",
              "50%            80.000000    5.595210e+05            4.000000   \n",
              "75%           443.000000    8.567829e+07            7.000000   \n",
              "max         65178.000000    1.200000e+08       203943.000000   \n",
              "\n",
              "        Total Backward Packets  Total Length of Fwd Packets  \\\n",
              "count            522377.000000                 5.223770e+05   \n",
              "mean                 12.715175                 6.761723e+02   \n",
              "std                1132.983560                 6.980280e+03   \n",
              "min                   0.000000                 0.000000e+00   \n",
              "25%                   1.000000                 1.200000e+01   \n",
              "50%                   2.000000                 2.800000e+02   \n",
              "75%                   6.000000                 3.810000e+02   \n",
              "max              272353.000000                 1.224076e+06   \n",
              "\n",
              "        Total Length of Bwd Packets   Fwd Packet Length Max  \\\n",
              "count                  5.223770e+05           522377.000000   \n",
              "mean                   2.193019e+04              287.587930   \n",
              "std                    2.579985e+06              671.339401   \n",
              "min                    0.000000e+00                0.000000   \n",
              "25%                    0.000000e+00                6.000000   \n",
              "50%                    2.660000e+02              185.000000   \n",
              "75%                    1.159500e+04              356.000000   \n",
              "max                    6.270000e+08            24820.000000   \n",
              "\n",
              "        Fwd Packet Length Min   Fwd Packet Length Mean  \\\n",
              "count           522377.000000            522377.000000   \n",
              "mean                11.247182                68.912681   \n",
              "std                 51.717213               174.590235   \n",
              "min                  0.000000                 0.000000   \n",
              "25%                  0.000000                 6.000000   \n",
              "50%                  0.000000                45.285714   \n",
              "75%                  6.000000                62.833333   \n",
              "max               2065.000000              4640.757576   \n",
              "\n",
              "        Fwd Packet Length Std  ...   act_data_pkt_fwd   min_seg_size_forward  \\\n",
              "count           522377.000000  ...      522376.000000           522376.00000   \n",
              "mean               105.157035  ...           7.672786               26.66349   \n",
              "std                252.230392  ...         823.334666                6.25309   \n",
              "min                  0.000000  ...           0.000000               -1.00000   \n",
              "25%                  0.000000  ...           0.000000               20.00000   \n",
              "50%                 37.476659  ...           1.000000               32.00000   \n",
              "75%                140.360696  ...           3.000000               32.00000   \n",
              "max               6429.190773  ...      197124.000000               60.00000   \n",
              "\n",
              "        Active Mean    Active Std    Active Max    Active Min     Idle Mean  \\\n",
              "count  5.223760e+05  5.223760e+05  5.223760e+05  5.223760e+05  5.223760e+05   \n",
              "mean   1.120940e+05  6.021226e+04  2.017772e+05  7.525098e+04  2.873910e+07   \n",
              "std    7.710486e+05  5.372937e+05  1.224043e+06  6.592163e+05  4.137578e+07   \n",
              "min    0.000000e+00  0.000000e+00  0.000000e+00  0.000000e+00  0.000000e+00   \n",
              "25%    0.000000e+00  0.000000e+00  0.000000e+00  0.000000e+00  0.000000e+00   \n",
              "50%    0.000000e+00  0.000000e+00  0.000000e+00  0.000000e+00  0.000000e+00   \n",
              "75%    2.002000e+03  0.000000e+00  2.002000e+03  1.996000e+03  8.370000e+07   \n",
              "max    1.000000e+08  7.420000e+07  1.050000e+08  1.000000e+08  1.200000e+08   \n",
              "\n",
              "           Idle Std      Idle Max      Idle Min  \n",
              "count  5.223760e+05  5.223760e+05  5.223760e+05  \n",
              "mean   6.143959e+05  2.927109e+07  2.825149e+07  \n",
              "std    5.134184e+06  4.172530e+07  4.139457e+07  \n",
              "min    0.000000e+00  0.000000e+00  0.000000e+00  \n",
              "25%    0.000000e+00  0.000000e+00  0.000000e+00  \n",
              "50%    0.000000e+00  0.000000e+00  0.000000e+00  \n",
              "75%    0.000000e+00  8.410000e+07  8.370000e+07  \n",
              "max    7.690000e+07  1.200000e+08  1.200000e+08  \n",
              "\n",
              "[8 rows x 78 columns]"
            ],
            "text/html": [
              "\n",
              "  <div id=\"df-e5d98e11-75c8-450b-9137-d5b8c4a010bf\">\n",
              "    <div class=\"colab-df-container\">\n",
              "      <div>\n",
              "<style scoped>\n",
              "    .dataframe tbody tr th:only-of-type {\n",
              "        vertical-align: middle;\n",
              "    }\n",
              "\n",
              "    .dataframe tbody tr th {\n",
              "        vertical-align: top;\n",
              "    }\n",
              "\n",
              "    .dataframe thead th {\n",
              "        text-align: right;\n",
              "    }\n",
              "</style>\n",
              "<table border=\"1\" class=\"dataframe\">\n",
              "  <thead>\n",
              "    <tr style=\"text-align: right;\">\n",
              "      <th></th>\n",
              "      <th>Destination Port</th>\n",
              "      <th>Flow Duration</th>\n",
              "      <th>Total Fwd Packets</th>\n",
              "      <th>Total Backward Packets</th>\n",
              "      <th>Total Length of Fwd Packets</th>\n",
              "      <th>Total Length of Bwd Packets</th>\n",
              "      <th>Fwd Packet Length Max</th>\n",
              "      <th>Fwd Packet Length Min</th>\n",
              "      <th>Fwd Packet Length Mean</th>\n",
              "      <th>Fwd Packet Length Std</th>\n",
              "      <th>...</th>\n",
              "      <th>act_data_pkt_fwd</th>\n",
              "      <th>min_seg_size_forward</th>\n",
              "      <th>Active Mean</th>\n",
              "      <th>Active Std</th>\n",
              "      <th>Active Max</th>\n",
              "      <th>Active Min</th>\n",
              "      <th>Idle Mean</th>\n",
              "      <th>Idle Std</th>\n",
              "      <th>Idle Max</th>\n",
              "      <th>Idle Min</th>\n",
              "    </tr>\n",
              "  </thead>\n",
              "  <tbody>\n",
              "    <tr>\n",
              "      <th>count</th>\n",
              "      <td>522377.000000</td>\n",
              "      <td>5.223770e+05</td>\n",
              "      <td>522377.000000</td>\n",
              "      <td>522377.000000</td>\n",
              "      <td>5.223770e+05</td>\n",
              "      <td>5.223770e+05</td>\n",
              "      <td>522377.000000</td>\n",
              "      <td>522377.000000</td>\n",
              "      <td>522377.000000</td>\n",
              "      <td>522377.000000</td>\n",
              "      <td>...</td>\n",
              "      <td>522376.000000</td>\n",
              "      <td>522376.00000</td>\n",
              "      <td>5.223760e+05</td>\n",
              "      <td>5.223760e+05</td>\n",
              "      <td>5.223760e+05</td>\n",
              "      <td>5.223760e+05</td>\n",
              "      <td>5.223760e+05</td>\n",
              "      <td>5.223760e+05</td>\n",
              "      <td>5.223760e+05</td>\n",
              "      <td>5.223760e+05</td>\n",
              "    </tr>\n",
              "    <tr>\n",
              "      <th>mean</th>\n",
              "      <td>3945.818262</td>\n",
              "      <td>3.628076e+07</td>\n",
              "      <td>11.751042</td>\n",
              "      <td>12.715175</td>\n",
              "      <td>6.761723e+02</td>\n",
              "      <td>2.193019e+04</td>\n",
              "      <td>287.587930</td>\n",
              "      <td>11.247182</td>\n",
              "      <td>68.912681</td>\n",
              "      <td>105.157035</td>\n",
              "      <td>...</td>\n",
              "      <td>7.672786</td>\n",
              "      <td>26.66349</td>\n",
              "      <td>1.120940e+05</td>\n",
              "      <td>6.021226e+04</td>\n",
              "      <td>2.017772e+05</td>\n",
              "      <td>7.525098e+04</td>\n",
              "      <td>2.873910e+07</td>\n",
              "      <td>6.143959e+05</td>\n",
              "      <td>2.927109e+07</td>\n",
              "      <td>2.825149e+07</td>\n",
              "    </tr>\n",
              "    <tr>\n",
              "      <th>std</th>\n",
              "      <td>13283.363808</td>\n",
              "      <td>4.577061e+07</td>\n",
              "      <td>860.127275</td>\n",
              "      <td>1132.983560</td>\n",
              "      <td>6.980280e+03</td>\n",
              "      <td>2.579985e+06</td>\n",
              "      <td>671.339401</td>\n",
              "      <td>51.717213</td>\n",
              "      <td>174.590235</td>\n",
              "      <td>252.230392</td>\n",
              "      <td>...</td>\n",
              "      <td>823.334666</td>\n",
              "      <td>6.25309</td>\n",
              "      <td>7.710486e+05</td>\n",
              "      <td>5.372937e+05</td>\n",
              "      <td>1.224043e+06</td>\n",
              "      <td>6.592163e+05</td>\n",
              "      <td>4.137578e+07</td>\n",
              "      <td>5.134184e+06</td>\n",
              "      <td>4.172530e+07</td>\n",
              "      <td>4.139457e+07</td>\n",
              "    </tr>\n",
              "    <tr>\n",
              "      <th>min</th>\n",
              "      <td>0.000000</td>\n",
              "      <td>-1.000000e+00</td>\n",
              "      <td>1.000000</td>\n",
              "      <td>0.000000</td>\n",
              "      <td>0.000000e+00</td>\n",
              "      <td>0.000000e+00</td>\n",
              "      <td>0.000000</td>\n",
              "      <td>0.000000</td>\n",
              "      <td>0.000000</td>\n",
              "      <td>0.000000</td>\n",
              "      <td>...</td>\n",
              "      <td>0.000000</td>\n",
              "      <td>-1.00000</td>\n",
              "      <td>0.000000e+00</td>\n",
              "      <td>0.000000e+00</td>\n",
              "      <td>0.000000e+00</td>\n",
              "      <td>0.000000e+00</td>\n",
              "      <td>0.000000e+00</td>\n",
              "      <td>0.000000e+00</td>\n",
              "      <td>0.000000e+00</td>\n",
              "      <td>0.000000e+00</td>\n",
              "    </tr>\n",
              "    <tr>\n",
              "      <th>25%</th>\n",
              "      <td>80.000000</td>\n",
              "      <td>9.880000e+02</td>\n",
              "      <td>2.000000</td>\n",
              "      <td>1.000000</td>\n",
              "      <td>1.200000e+01</td>\n",
              "      <td>0.000000e+00</td>\n",
              "      <td>6.000000</td>\n",
              "      <td>0.000000</td>\n",
              "      <td>6.000000</td>\n",
              "      <td>0.000000</td>\n",
              "      <td>...</td>\n",
              "      <td>0.000000</td>\n",
              "      <td>20.00000</td>\n",
              "      <td>0.000000e+00</td>\n",
              "      <td>0.000000e+00</td>\n",
              "      <td>0.000000e+00</td>\n",
              "      <td>0.000000e+00</td>\n",
              "      <td>0.000000e+00</td>\n",
              "      <td>0.000000e+00</td>\n",
              "      <td>0.000000e+00</td>\n",
              "      <td>0.000000e+00</td>\n",
              "    </tr>\n",
              "    <tr>\n",
              "      <th>50%</th>\n",
              "      <td>80.000000</td>\n",
              "      <td>5.595210e+05</td>\n",
              "      <td>4.000000</td>\n",
              "      <td>2.000000</td>\n",
              "      <td>2.800000e+02</td>\n",
              "      <td>2.660000e+02</td>\n",
              "      <td>185.000000</td>\n",
              "      <td>0.000000</td>\n",
              "      <td>45.285714</td>\n",
              "      <td>37.476659</td>\n",
              "      <td>...</td>\n",
              "      <td>1.000000</td>\n",
              "      <td>32.00000</td>\n",
              "      <td>0.000000e+00</td>\n",
              "      <td>0.000000e+00</td>\n",
              "      <td>0.000000e+00</td>\n",
              "      <td>0.000000e+00</td>\n",
              "      <td>0.000000e+00</td>\n",
              "      <td>0.000000e+00</td>\n",
              "      <td>0.000000e+00</td>\n",
              "      <td>0.000000e+00</td>\n",
              "    </tr>\n",
              "    <tr>\n",
              "      <th>75%</th>\n",
              "      <td>443.000000</td>\n",
              "      <td>8.567829e+07</td>\n",
              "      <td>7.000000</td>\n",
              "      <td>6.000000</td>\n",
              "      <td>3.810000e+02</td>\n",
              "      <td>1.159500e+04</td>\n",
              "      <td>356.000000</td>\n",
              "      <td>6.000000</td>\n",
              "      <td>62.833333</td>\n",
              "      <td>140.360696</td>\n",
              "      <td>...</td>\n",
              "      <td>3.000000</td>\n",
              "      <td>32.00000</td>\n",
              "      <td>2.002000e+03</td>\n",
              "      <td>0.000000e+00</td>\n",
              "      <td>2.002000e+03</td>\n",
              "      <td>1.996000e+03</td>\n",
              "      <td>8.370000e+07</td>\n",
              "      <td>0.000000e+00</td>\n",
              "      <td>8.410000e+07</td>\n",
              "      <td>8.370000e+07</td>\n",
              "    </tr>\n",
              "    <tr>\n",
              "      <th>max</th>\n",
              "      <td>65178.000000</td>\n",
              "      <td>1.200000e+08</td>\n",
              "      <td>203943.000000</td>\n",
              "      <td>272353.000000</td>\n",
              "      <td>1.224076e+06</td>\n",
              "      <td>6.270000e+08</td>\n",
              "      <td>24820.000000</td>\n",
              "      <td>2065.000000</td>\n",
              "      <td>4640.757576</td>\n",
              "      <td>6429.190773</td>\n",
              "      <td>...</td>\n",
              "      <td>197124.000000</td>\n",
              "      <td>60.00000</td>\n",
              "      <td>1.000000e+08</td>\n",
              "      <td>7.420000e+07</td>\n",
              "      <td>1.050000e+08</td>\n",
              "      <td>1.000000e+08</td>\n",
              "      <td>1.200000e+08</td>\n",
              "      <td>7.690000e+07</td>\n",
              "      <td>1.200000e+08</td>\n",
              "      <td>1.200000e+08</td>\n",
              "    </tr>\n",
              "  </tbody>\n",
              "</table>\n",
              "<p>8 rows × 78 columns</p>\n",
              "</div>\n",
              "      <button class=\"colab-df-convert\" onclick=\"convertToInteractive('df-e5d98e11-75c8-450b-9137-d5b8c4a010bf')\"\n",
              "              title=\"Convert this dataframe to an interactive table.\"\n",
              "              style=\"display:none;\">\n",
              "        \n",
              "  <svg xmlns=\"http://www.w3.org/2000/svg\" height=\"24px\"viewBox=\"0 0 24 24\"\n",
              "       width=\"24px\">\n",
              "    <path d=\"M0 0h24v24H0V0z\" fill=\"none\"/>\n",
              "    <path d=\"M18.56 5.44l.94 2.06.94-2.06 2.06-.94-2.06-.94-.94-2.06-.94 2.06-2.06.94zm-11 1L8.5 8.5l.94-2.06 2.06-.94-2.06-.94L8.5 2.5l-.94 2.06-2.06.94zm10 10l.94 2.06.94-2.06 2.06-.94-2.06-.94-.94-2.06-.94 2.06-2.06.94z\"/><path d=\"M17.41 7.96l-1.37-1.37c-.4-.4-.92-.59-1.43-.59-.52 0-1.04.2-1.43.59L10.3 9.45l-7.72 7.72c-.78.78-.78 2.05 0 2.83L4 21.41c.39.39.9.59 1.41.59.51 0 1.02-.2 1.41-.59l7.78-7.78 2.81-2.81c.8-.78.8-2.07 0-2.86zM5.41 20L4 18.59l7.72-7.72 1.47 1.35L5.41 20z\"/>\n",
              "  </svg>\n",
              "      </button>\n",
              "      \n",
              "  <style>\n",
              "    .colab-df-container {\n",
              "      display:flex;\n",
              "      flex-wrap:wrap;\n",
              "      gap: 12px;\n",
              "    }\n",
              "\n",
              "    .colab-df-convert {\n",
              "      background-color: #E8F0FE;\n",
              "      border: none;\n",
              "      border-radius: 50%;\n",
              "      cursor: pointer;\n",
              "      display: none;\n",
              "      fill: #1967D2;\n",
              "      height: 32px;\n",
              "      padding: 0 0 0 0;\n",
              "      width: 32px;\n",
              "    }\n",
              "\n",
              "    .colab-df-convert:hover {\n",
              "      background-color: #E2EBFA;\n",
              "      box-shadow: 0px 1px 2px rgba(60, 64, 67, 0.3), 0px 1px 3px 1px rgba(60, 64, 67, 0.15);\n",
              "      fill: #174EA6;\n",
              "    }\n",
              "\n",
              "    [theme=dark] .colab-df-convert {\n",
              "      background-color: #3B4455;\n",
              "      fill: #D2E3FC;\n",
              "    }\n",
              "\n",
              "    [theme=dark] .colab-df-convert:hover {\n",
              "      background-color: #434B5C;\n",
              "      box-shadow: 0px 1px 3px 1px rgba(0, 0, 0, 0.15);\n",
              "      filter: drop-shadow(0px 1px 2px rgba(0, 0, 0, 0.3));\n",
              "      fill: #FFFFFF;\n",
              "    }\n",
              "  </style>\n",
              "\n",
              "      <script>\n",
              "        const buttonEl =\n",
              "          document.querySelector('#df-e5d98e11-75c8-450b-9137-d5b8c4a010bf button.colab-df-convert');\n",
              "        buttonEl.style.display =\n",
              "          google.colab.kernel.accessAllowed ? 'block' : 'none';\n",
              "\n",
              "        async function convertToInteractive(key) {\n",
              "          const element = document.querySelector('#df-e5d98e11-75c8-450b-9137-d5b8c4a010bf');\n",
              "          const dataTable =\n",
              "            await google.colab.kernel.invokeFunction('convertToInteractive',\n",
              "                                                     [key], {});\n",
              "          if (!dataTable) return;\n",
              "\n",
              "          const docLinkHtml = 'Like what you see? Visit the ' +\n",
              "            '<a target=\"_blank\" href=https://colab.research.google.com/notebooks/data_table.ipynb>data table notebook</a>'\n",
              "            + ' to learn more about interactive tables.';\n",
              "          element.innerHTML = '';\n",
              "          dataTable['output_type'] = 'display_data';\n",
              "          await google.colab.output.renderOutput(dataTable, element);\n",
              "          const docLink = document.createElement('div');\n",
              "          docLink.innerHTML = docLinkHtml;\n",
              "          element.appendChild(docLink);\n",
              "        }\n",
              "      </script>\n",
              "    </div>\n",
              "  </div>\n",
              "  "
            ]
          },
          "metadata": {},
          "execution_count": 4
        }
      ]
    },
    {
      "cell_type": "code",
      "source": [
        "df.isna().any()[lambda x:x]"
      ],
      "metadata": {
        "colab": {
          "base_uri": "https://localhost:8080/"
        },
        "id": "AujtBS7xkkPC",
        "outputId": "79fc2a76-891b-4eb2-c7c5-61149bf43c23"
      },
      "execution_count": 5,
      "outputs": [
        {
          "output_type": "execute_result",
          "data": {
            "text/plain": [
              "Flow Bytes/s      True\n",
              " Flow IAT Mean    True\n",
              " Flow IAT Std     True\n",
              " Flow IAT Max     True\n",
              " Flow IAT Min     True\n",
              "                  ... \n",
              "Idle Mean         True\n",
              " Idle Std         True\n",
              " Idle Max         True\n",
              " Idle Min         True\n",
              " Label            True\n",
              "Length: 64, dtype: bool"
            ]
          },
          "metadata": {},
          "execution_count": 5
        }
      ]
    },
    {
      "cell_type": "code",
      "source": [
        "del df['Flow Bytes/s']"
      ],
      "metadata": {
        "id": "VMxjKvW-zk8V"
      },
      "execution_count": 6,
      "outputs": []
    },
    {
      "cell_type": "code",
      "source": [
        "del df[' Flow Packets/s']"
      ],
      "metadata": {
        "id": "O_Wi16tKzspb"
      },
      "execution_count": 7,
      "outputs": []
    },
    {
      "cell_type": "code",
      "source": [
        "df.shape"
      ],
      "metadata": {
        "colab": {
          "base_uri": "https://localhost:8080/"
        },
        "id": "yYcntsMrzvx8",
        "outputId": "a3499977-4a0a-4532-e121-ad110eb6f510"
      },
      "execution_count": 8,
      "outputs": [
        {
          "output_type": "execute_result",
          "data": {
            "text/plain": [
              "(522377, 77)"
            ]
          },
          "metadata": {},
          "execution_count": 8
        }
      ]
    },
    {
      "cell_type": "code",
      "source": [
        "df.info()"
      ],
      "metadata": {
        "colab": {
          "base_uri": "https://localhost:8080/"
        },
        "id": "aX1Xp1LHz0vU",
        "outputId": "02034e51-47a4-47f6-c647-5649fd4e2936"
      },
      "execution_count": 9,
      "outputs": [
        {
          "output_type": "stream",
          "name": "stdout",
          "text": [
            "<class 'pandas.core.frame.DataFrame'>\n",
            "RangeIndex: 522377 entries, 0 to 522376\n",
            "Data columns (total 77 columns):\n",
            " #   Column                        Non-Null Count   Dtype  \n",
            "---  ------                        --------------   -----  \n",
            " 0    Destination Port             522377 non-null  int64  \n",
            " 1    Flow Duration                522377 non-null  int64  \n",
            " 2    Total Fwd Packets            522377 non-null  int64  \n",
            " 3    Total Backward Packets       522377 non-null  int64  \n",
            " 4   Total Length of Fwd Packets   522377 non-null  int64  \n",
            " 5    Total Length of Bwd Packets  522377 non-null  int64  \n",
            " 6    Fwd Packet Length Max        522377 non-null  int64  \n",
            " 7    Fwd Packet Length Min        522377 non-null  int64  \n",
            " 8    Fwd Packet Length Mean       522377 non-null  float64\n",
            " 9    Fwd Packet Length Std        522377 non-null  float64\n",
            " 10  Bwd Packet Length Max         522377 non-null  int64  \n",
            " 11   Bwd Packet Length Min        522377 non-null  int64  \n",
            " 12   Bwd Packet Length Mean       522377 non-null  float64\n",
            " 13   Bwd Packet Length Std        522377 non-null  float64\n",
            " 14   Flow IAT Mean                522376 non-null  float64\n",
            " 15   Flow IAT Std                 522376 non-null  float64\n",
            " 16   Flow IAT Max                 522376 non-null  float64\n",
            " 17   Flow IAT Min                 522376 non-null  float64\n",
            " 18  Fwd IAT Total                 522376 non-null  float64\n",
            " 19   Fwd IAT Mean                 522376 non-null  float64\n",
            " 20   Fwd IAT Std                  522376 non-null  float64\n",
            " 21   Fwd IAT Max                  522376 non-null  float64\n",
            " 22   Fwd IAT Min                  522376 non-null  float64\n",
            " 23  Bwd IAT Total                 522376 non-null  float64\n",
            " 24   Bwd IAT Mean                 522376 non-null  float64\n",
            " 25   Bwd IAT Std                  522376 non-null  float64\n",
            " 26   Bwd IAT Max                  522376 non-null  float64\n",
            " 27   Bwd IAT Min                  522376 non-null  float64\n",
            " 28  Fwd PSH Flags                 522376 non-null  float64\n",
            " 29   Bwd PSH Flags                522376 non-null  float64\n",
            " 30   Fwd URG Flags                522376 non-null  float64\n",
            " 31   Bwd URG Flags                522376 non-null  float64\n",
            " 32   Fwd Header Length            522376 non-null  float64\n",
            " 33   Bwd Header Length            522376 non-null  float64\n",
            " 34  Fwd Packets/s                 522376 non-null  float64\n",
            " 35   Bwd Packets/s                522376 non-null  float64\n",
            " 36   Min Packet Length            522376 non-null  float64\n",
            " 37   Max Packet Length            522376 non-null  float64\n",
            " 38   Packet Length Mean           522376 non-null  float64\n",
            " 39   Packet Length Std            522376 non-null  float64\n",
            " 40   Packet Length Variance       522376 non-null  float64\n",
            " 41  FIN Flag Count                522376 non-null  float64\n",
            " 42   SYN Flag Count               522376 non-null  float64\n",
            " 43   RST Flag Count               522376 non-null  float64\n",
            " 44   PSH Flag Count               522376 non-null  float64\n",
            " 45   ACK Flag Count               522376 non-null  float64\n",
            " 46   URG Flag Count               522376 non-null  float64\n",
            " 47   CWE Flag Count               522376 non-null  float64\n",
            " 48   ECE Flag Count               522376 non-null  float64\n",
            " 49   Down/Up Ratio                522376 non-null  float64\n",
            " 50   Average Packet Size          522376 non-null  float64\n",
            " 51   Avg Fwd Segment Size         522376 non-null  float64\n",
            " 52   Avg Bwd Segment Size         522376 non-null  float64\n",
            " 53   Fwd Header Length.1          522376 non-null  float64\n",
            " 54  Fwd Avg Bytes/Bulk            522376 non-null  float64\n",
            " 55   Fwd Avg Packets/Bulk         522376 non-null  float64\n",
            " 56   Fwd Avg Bulk Rate            522376 non-null  float64\n",
            " 57   Bwd Avg Bytes/Bulk           522376 non-null  float64\n",
            " 58   Bwd Avg Packets/Bulk         522376 non-null  float64\n",
            " 59  Bwd Avg Bulk Rate             522376 non-null  float64\n",
            " 60  Subflow Fwd Packets           522376 non-null  float64\n",
            " 61   Subflow Fwd Bytes            522376 non-null  float64\n",
            " 62   Subflow Bwd Packets          522376 non-null  float64\n",
            " 63   Subflow Bwd Bytes            522376 non-null  float64\n",
            " 64  Init_Win_bytes_forward        522376 non-null  float64\n",
            " 65   Init_Win_bytes_backward      522376 non-null  float64\n",
            " 66   act_data_pkt_fwd             522376 non-null  float64\n",
            " 67   min_seg_size_forward         522376 non-null  float64\n",
            " 68  Active Mean                   522376 non-null  float64\n",
            " 69   Active Std                   522376 non-null  float64\n",
            " 70   Active Max                   522376 non-null  float64\n",
            " 71   Active Min                   522376 non-null  float64\n",
            " 72  Idle Mean                     522376 non-null  float64\n",
            " 73   Idle Std                     522376 non-null  float64\n",
            " 74   Idle Max                     522376 non-null  float64\n",
            " 75   Idle Min                     522376 non-null  float64\n",
            " 76   Label                        522376 non-null  object \n",
            "dtypes: float64(66), int64(10), object(1)\n",
            "memory usage: 306.9+ MB\n"
          ]
        }
      ]
    },
    {
      "cell_type": "code",
      "source": [
        "moddf= df.dropna()\n",
        "moddf.shape"
      ],
      "metadata": {
        "colab": {
          "base_uri": "https://localhost:8080/"
        },
        "id": "S7CPKG1Xz5zN",
        "outputId": "f1ffb1a1-a01c-43c9-f0d7-88f432474776"
      },
      "execution_count": 10,
      "outputs": [
        {
          "output_type": "execute_result",
          "data": {
            "text/plain": [
              "(522376, 77)"
            ]
          },
          "metadata": {},
          "execution_count": 10
        }
      ]
    },
    {
      "cell_type": "code",
      "source": [
        "from sklearn.model_selection import train_test_split\n",
        "df_train, df_test=train_test_split(moddf,test_size = 0.20)\n",
        "print(df_train.shape)\n",
        "print(df_test.shape)"
      ],
      "metadata": {
        "colab": {
          "base_uri": "https://localhost:8080/"
        },
        "id": "8J7f7PHY0FKv",
        "outputId": "97b9ba3e-02f2-4d1e-c204-09e1aa10f4ef"
      },
      "execution_count": 11,
      "outputs": [
        {
          "output_type": "stream",
          "name": "stdout",
          "text": [
            "(417900, 77)\n",
            "(104476, 77)\n"
          ]
        }
      ]
    },
    {
      "cell_type": "code",
      "source": [
        "print('Label distribution Training set:')\n",
        "print(df_train[' Label'].value_counts())\n",
        "print()\n",
        "print(df_test[' Label'].value_counts())\n",
        "print()"
      ],
      "metadata": {
        "colab": {
          "base_uri": "https://localhost:8080/"
        },
        "id": "YBQp5-Pg0YUy",
        "outputId": "078b4b31-b503-47bf-9b44-62a71c010c5d"
      },
      "execution_count": 13,
      "outputs": [
        {
          "output_type": "stream",
          "name": "stdout",
          "text": [
            "Label distribution Training set:\n",
            "BENIGN              222570\n",
            "DoS Hulk            185137\n",
            "DoS slowloris         4625\n",
            "DoS Slowhttptest      4391\n",
            "DoS GoldenEye         1177\n",
            "Name:  Label, dtype: int64\n",
            "\n",
            "BENIGN              55931\n",
            "DoS Hulk            45936\n",
            "DoS slowloris        1171\n",
            "DoS Slowhttptest     1108\n",
            "DoS GoldenEye         330\n",
            "Name:  Label, dtype: int64\n",
            "\n"
          ]
        }
      ]
    },
    {
      "cell_type": "code",
      "source": [
        "labeldf=df_train[' Label']\n",
        "labeldf_test=df_test[' Label']\n",
        "#change the label column\n",
        "newlabeldf=labeldf.replace({ 'BENIGN' : 0, 'DoS Hulk' : 1, 'DoS GoldenEye' : 1, 'DoS slowloris' : 1, \n",
        "                            'DoS Slowhttptest' : 1, 'Heartbleed' : 1})\n",
        "newlabeldf_test=labeldf_test.replace({ 'BENIGN' : 0, 'DoS Hulk' : 1, 'DoS GoldenEye' : 1, 'DoS slowloris' : 1, \n",
        "                            'DoS Slowhttptest' : 1, 'Heartbleed' : 1})\n",
        "# put the new label column back\n",
        "df_train[' Label'] = newlabeldf\n",
        "df_test[' Label'] = newlabeldf_test\n",
        "print(df_train[' Label'].head())\n",
        "print(df_test[' Label'].head())"
      ],
      "metadata": {
        "colab": {
          "base_uri": "https://localhost:8080/"
        },
        "id": "HHKTy-SL0iCd",
        "outputId": "4f51e3ee-f37f-4cb8-94e4-dfbe4b7a3303"
      },
      "execution_count": 14,
      "outputs": [
        {
          "output_type": "stream",
          "name": "stdout",
          "text": [
            "456211    0\n",
            "45528     0\n",
            "352126    0\n",
            "499420    0\n",
            "433924    0\n",
            "Name:  Label, dtype: int64\n",
            "351839    0\n",
            "433527    0\n",
            "132474    1\n",
            "298009    1\n",
            "139807    1\n",
            "Name:  Label, dtype: int64\n"
          ]
        }
      ]
    },
    {
      "cell_type": "code",
      "source": [
        "X_df_train=df_train.drop(' Label',1)\n",
        "Y_df_train=df_train[' Label']\n",
        "X_df_test=df_test.drop(' Label',1)\n",
        "Y_df_test=df_test[' Label']\n",
        "X_df_train\n",
        "Y_df_train"
      ],
      "metadata": {
        "colab": {
          "base_uri": "https://localhost:8080/"
        },
        "id": "cDWjwQRA0z74",
        "outputId": "d56432bf-18e5-4000-d50d-bb47d1b42211"
      },
      "execution_count": 15,
      "outputs": [
        {
          "output_type": "stream",
          "name": "stderr",
          "text": [
            "<ipython-input-15-033567ad6a45>:1: FutureWarning: In a future version of pandas all arguments of DataFrame.drop except for the argument 'labels' will be keyword-only.\n",
            "  X_df_train=df_train.drop(' Label',1)\n",
            "<ipython-input-15-033567ad6a45>:3: FutureWarning: In a future version of pandas all arguments of DataFrame.drop except for the argument 'labels' will be keyword-only.\n",
            "  X_df_test=df_test.drop(' Label',1)\n"
          ]
        },
        {
          "output_type": "execute_result",
          "data": {
            "text/plain": [
              "456211    0\n",
              "45528     0\n",
              "352126    0\n",
              "499420    0\n",
              "433924    0\n",
              "         ..\n",
              "341188    0\n",
              "342433    0\n",
              "233317    1\n",
              "298544    1\n",
              "490987    0\n",
              "Name:  Label, Length: 417900, dtype: int64"
            ]
          },
          "metadata": {},
          "execution_count": 15
        }
      ]
    },
    {
      "cell_type": "code",
      "source": [
        "colNames=list(X_df_train)\n",
        "colNames_test=list(X_df_test)\n",
        "X_df_train.shape\n",
        "print(colNames)"
      ],
      "metadata": {
        "colab": {
          "base_uri": "https://localhost:8080/"
        },
        "id": "J1wlhrgT04tW",
        "outputId": "3d31878f-5e95-420a-88a7-ca4fb3891446"
      },
      "execution_count": 16,
      "outputs": [
        {
          "output_type": "stream",
          "name": "stdout",
          "text": [
            "[' Destination Port', ' Flow Duration', ' Total Fwd Packets', ' Total Backward Packets', 'Total Length of Fwd Packets', ' Total Length of Bwd Packets', ' Fwd Packet Length Max', ' Fwd Packet Length Min', ' Fwd Packet Length Mean', ' Fwd Packet Length Std', 'Bwd Packet Length Max', ' Bwd Packet Length Min', ' Bwd Packet Length Mean', ' Bwd Packet Length Std', ' Flow IAT Mean', ' Flow IAT Std', ' Flow IAT Max', ' Flow IAT Min', 'Fwd IAT Total', ' Fwd IAT Mean', ' Fwd IAT Std', ' Fwd IAT Max', ' Fwd IAT Min', 'Bwd IAT Total', ' Bwd IAT Mean', ' Bwd IAT Std', ' Bwd IAT Max', ' Bwd IAT Min', 'Fwd PSH Flags', ' Bwd PSH Flags', ' Fwd URG Flags', ' Bwd URG Flags', ' Fwd Header Length', ' Bwd Header Length', 'Fwd Packets/s', ' Bwd Packets/s', ' Min Packet Length', ' Max Packet Length', ' Packet Length Mean', ' Packet Length Std', ' Packet Length Variance', 'FIN Flag Count', ' SYN Flag Count', ' RST Flag Count', ' PSH Flag Count', ' ACK Flag Count', ' URG Flag Count', ' CWE Flag Count', ' ECE Flag Count', ' Down/Up Ratio', ' Average Packet Size', ' Avg Fwd Segment Size', ' Avg Bwd Segment Size', ' Fwd Header Length.1', 'Fwd Avg Bytes/Bulk', ' Fwd Avg Packets/Bulk', ' Fwd Avg Bulk Rate', ' Bwd Avg Bytes/Bulk', ' Bwd Avg Packets/Bulk', 'Bwd Avg Bulk Rate', 'Subflow Fwd Packets', ' Subflow Fwd Bytes', ' Subflow Bwd Packets', ' Subflow Bwd Bytes', 'Init_Win_bytes_forward', ' Init_Win_bytes_backward', ' act_data_pkt_fwd', ' min_seg_size_forward', 'Active Mean', ' Active Std', ' Active Max', ' Active Min', 'Idle Mean', ' Idle Std', ' Idle Max', ' Idle Min']\n"
          ]
        }
      ]
    },
    {
      "cell_type": "code",
      "source": [
        "print(X_df_train)\n",
        "from sklearn import preprocessing\n",
        "scaler1 = preprocessing.StandardScaler().fit(X_df_train)\n",
        "X_df_train=scaler1.transform(X_df_train) \n",
        "# test data\n",
        "scaler2 = preprocessing.StandardScaler().fit(X_df_test)\n",
        "X_df_test=scaler2.transform(X_df_test) "
      ],
      "metadata": {
        "colab": {
          "base_uri": "https://localhost:8080/"
        },
        "id": "68Drw8nn1Ana",
        "outputId": "8985d8ee-73bd-4824-deea-cb9af2963601"
      },
      "execution_count": 17,
      "outputs": [
        {
          "output_type": "stream",
          "name": "stdout",
          "text": [
            "         Destination Port   Flow Duration   Total Fwd Packets  \\\n",
            "456211                443         5182942                   6   \n",
            "45528                  80         5074533                   4   \n",
            "352126              51478               2                   2   \n",
            "499420                443         5156754                   5   \n",
            "433924                 53           31544                   1   \n",
            "...                   ...             ...                 ...   \n",
            "341188                 53           46427                   1   \n",
            "342433                443        17449845                  76   \n",
            "233317                 80        86144489                   9   \n",
            "298544                 80       100865129                  10   \n",
            "490987                 53             192                   2   \n",
            "\n",
            "         Total Backward Packets  Total Length of Fwd Packets  \\\n",
            "456211                        4                          325   \n",
            "45528                         2                           12   \n",
            "352126                        0                            0   \n",
            "499420                        1                          135   \n",
            "433924                        1                           75   \n",
            "...                         ...                          ...   \n",
            "341188                        1                           49   \n",
            "342433                      194                         2188   \n",
            "233317                        6                          366   \n",
            "298544                        6                          780   \n",
            "490987                        2                           84   \n",
            "\n",
            "         Total Length of Bwd Packets   Fwd Packet Length Max  \\\n",
            "456211                           157                     231   \n",
            "45528                              0                       6   \n",
            "352126                             0                       0   \n",
            "499420                            46                      46   \n",
            "433924                           152                      75   \n",
            "...                              ...                     ...   \n",
            "341188                           148                      49   \n",
            "342433                        392431                     517   \n",
            "233317                         11595                     366   \n",
            "298544                         11595                     390   \n",
            "490987                           204                      42   \n",
            "\n",
            "         Fwd Packet Length Min   Fwd Packet Length Mean  \\\n",
            "456211                       0                54.166667   \n",
            "45528                        0                 3.000000   \n",
            "352126                       0                 0.000000   \n",
            "499420                       6                27.000000   \n",
            "433924                      75                75.000000   \n",
            "...                        ...                      ...   \n",
            "341188                      49                49.000000   \n",
            "342433                       0                28.789474   \n",
            "233317                       0                40.666667   \n",
            "298544                       0                78.000000   \n",
            "490987                      42                42.000000   \n",
            "\n",
            "         Fwd Packet Length Std  ...   act_data_pkt_fwd   min_seg_size_forward  \\\n",
            "456211               88.759037  ...                5.0                   20.0   \n",
            "45528                 3.464102  ...                2.0                   20.0   \n",
            "352126                0.000000  ...                0.0                   32.0   \n",
            "499420               20.124612  ...                4.0                   20.0   \n",
            "433924                0.000000  ...                0.0                   32.0   \n",
            "...                        ...  ...                ...                    ...   \n",
            "341188                0.000000  ...                0.0                   20.0   \n",
            "342433               94.302254  ...               75.0                   20.0   \n",
            "233317              122.000000  ...                1.0                   32.0   \n",
            "298544              164.438438  ...                2.0                   32.0   \n",
            "490987                0.000000  ...                1.0                   20.0   \n",
            "\n",
            "        Active Mean   Active Std   Active Max   Active Min    Idle Mean  \\\n",
            "456211          0.0          0.0          0.0          0.0          0.0   \n",
            "45528           0.0          0.0          0.0          0.0          0.0   \n",
            "352126          0.0          0.0          0.0          0.0          0.0   \n",
            "499420      93531.0          0.0      93531.0      93531.0    5062806.0   \n",
            "433924          0.0          0.0          0.0          0.0          0.0   \n",
            "...             ...          ...          ...          ...          ...   \n",
            "341188          0.0          0.0          0.0          0.0          0.0   \n",
            "342433    1669941.0          0.0    1669941.0    1669941.0   10000000.0   \n",
            "233317       1012.0          0.0       1012.0       1012.0   86000000.0   \n",
            "298544       1988.0          0.0       1988.0       1988.0  100000000.0   \n",
            "490987          0.0          0.0          0.0          0.0          0.0   \n",
            "\n",
            "         Idle Std     Idle Max     Idle Min  \n",
            "456211        0.0          0.0          0.0  \n",
            "45528         0.0          0.0          0.0  \n",
            "352126        0.0          0.0          0.0  \n",
            "499420        0.0    5062806.0    5062806.0  \n",
            "433924        0.0          0.0          0.0  \n",
            "...           ...          ...          ...  \n",
            "341188        0.0          0.0          0.0  \n",
            "342433        0.0   10000000.0   10000000.0  \n",
            "233317        0.0   86000000.0   86000000.0  \n",
            "298544        0.0  100000000.0  100000000.0  \n",
            "490987        0.0          0.0          0.0  \n",
            "\n",
            "[417900 rows x 76 columns]\n"
          ]
        }
      ]
    },
    {
      "cell_type": "code",
      "source": [
        "print(X_df_train.std(axis=0))"
      ],
      "metadata": {
        "colab": {
          "base_uri": "https://localhost:8080/"
        },
        "id": "XmI9GCTr1nzZ",
        "outputId": "c4dce66e-216c-488f-bfe8-ef896545f460"
      },
      "execution_count": 18,
      "outputs": [
        {
          "output_type": "stream",
          "name": "stdout",
          "text": [
            "[1. 1. 1. 1. 1. 1. 1. 1. 1. 1. 1. 1. 1. 1. 1. 1. 1. 1. 1. 1. 1. 1. 1. 1.\n",
            " 1. 1. 1. 1. 1. 0. 0. 0. 1. 1. 1. 1. 1. 1. 1. 1. 1. 1. 1. 1. 1. 1. 1. 0.\n",
            " 1. 1. 1. 1. 1. 1. 0. 0. 0. 0. 0. 0. 1. 1. 1. 1. 1. 1. 1. 1. 1. 1. 1. 1.\n",
            " 1. 1. 1. 1.]\n"
          ]
        }
      ]
    },
    {
      "cell_type": "code",
      "source": [
        "from sklearn.feature_selection import SelectPercentile, f_classif\n",
        "np.seterr(divide='ignore', invalid='ignore')\n",
        "selector=SelectPercentile(f_classif, percentile=10)\n",
        "X_newdf_train = selector.fit_transform(X_df_train,Y_df_train)\n",
        "X_newdf_train.shape"
      ],
      "metadata": {
        "colab": {
          "base_uri": "https://localhost:8080/"
        },
        "id": "HDm6OuB1ArnN",
        "outputId": "0cd86686-a77f-433b-b238-c38392994d8c"
      },
      "execution_count": 19,
      "outputs": [
        {
          "output_type": "stream",
          "name": "stderr",
          "text": [
            "/usr/local/lib/python3.9/dist-packages/sklearn/feature_selection/_univariate_selection.py:112: UserWarning: Features [29 30 31 47 54 55 56 57 58 59] are constant.\n",
            "  warnings.warn(\"Features %s are constant.\" % constant_features_idx, UserWarning)\n"
          ]
        },
        {
          "output_type": "execute_result",
          "data": {
            "text/plain": [
              "(417900, 8)"
            ]
          },
          "metadata": {},
          "execution_count": 19
        }
      ]
    },
    {
      "cell_type": "code",
      "source": [
        "true=selector.get_support()\n",
        "newcolindex_DoS=[i for i, x in enumerate(true) if x]\n",
        "newcolname_DoS=list( colNames[i] for i in newcolindex_DoS )\n",
        "newcolname_DoS"
      ],
      "metadata": {
        "colab": {
          "base_uri": "https://localhost:8080/"
        },
        "id": "uuxSjpNrA9nX",
        "outputId": "72de2043-7e60-4a47-8d6d-76cfbb8bbf92"
      },
      "execution_count": 20,
      "outputs": [
        {
          "output_type": "execute_result",
          "data": {
            "text/plain": [
              "[' Bwd Packet Length Mean',\n",
              " ' Bwd Packet Length Std',\n",
              " ' Flow IAT Max',\n",
              " ' Fwd IAT Std',\n",
              " ' Fwd IAT Max',\n",
              " ' Avg Bwd Segment Size',\n",
              " 'Idle Mean',\n",
              " ' Idle Max']"
            ]
          },
          "metadata": {},
          "execution_count": 20
        }
      ]
    },
    {
      "cell_type": "code",
      "source": [
        "print('Features selected for DoS:',newcolname_DoS)"
      ],
      "metadata": {
        "colab": {
          "base_uri": "https://localhost:8080/"
        },
        "id": "kvCnCfW1BXWD",
        "outputId": "48859849-411f-4bf5-ec72-1a9bef01f37a"
      },
      "execution_count": 21,
      "outputs": [
        {
          "output_type": "stream",
          "name": "stdout",
          "text": [
            "Features selected for DoS: [' Bwd Packet Length Mean', ' Bwd Packet Length Std', ' Flow IAT Max', ' Fwd IAT Std', ' Fwd IAT Max', ' Avg Bwd Segment Size', 'Idle Mean', ' Idle Max']\n"
          ]
        }
      ]
    },
    {
      "cell_type": "code",
      "source": [
        "from sklearn import preprocessing\n",
        "from sklearn import utils\n",
        "\n",
        "lab_enc = preprocessing.LabelEncoder()\n",
        "Y_df_train = lab_enc.fit_transform(Y_df_train)"
      ],
      "metadata": {
        "id": "iyFjAGJ6BrUf"
      },
      "execution_count": 22,
      "outputs": []
    },
    {
      "cell_type": "code",
      "source": [
        "from sklearn.discriminant_analysis import LinearDiscriminantAnalysis\n",
        "lda = LinearDiscriminantAnalysis()\n",
        "lda.fit_transform(X_df_train, Y_df_train)"
      ],
      "metadata": {
        "colab": {
          "base_uri": "https://localhost:8080/"
        },
        "id": "8u3AXAEOCQ6c",
        "outputId": "e9a623e5-563b-4626-b622-7e4e4e740477"
      },
      "execution_count": 23,
      "outputs": [
        {
          "output_type": "execute_result",
          "data": {
            "text/plain": [
              "array([[-2.1973146 ],\n",
              "       [-2.22510731],\n",
              "       [-0.77756728],\n",
              "       ...,\n",
              "       [ 2.79625248],\n",
              "       [ 2.72203498],\n",
              "       [-2.95420669]])"
            ]
          },
          "metadata": {},
          "execution_count": 23
        }
      ]
    },
    {
      "cell_type": "code",
      "source": [
        "Y_df_train=Y_df_train.astype('int')"
      ],
      "metadata": {
        "id": "dJQMl3L_C1mL"
      },
      "execution_count": 24,
      "outputs": []
    },
    {
      "cell_type": "code",
      "source": [
        "from sklearn.feature_selection import RFE\n",
        "from sklearn.tree import DecisionTreeClassifier\n",
        "# Create a decision tree classifier. By convention, clf means 'classifier'\n",
        "clf = DecisionTreeClassifier(random_state=0)\n",
        "\n",
        "#rank all features, i.e continue the elimination until the last one\n",
        "rfe = RFE(clf, n_features_to_select=1)\n",
        "rfe.fit(X_newdf_train, Y_df_train)\n",
        "print (\"DoS Features sorted by their rank:\")\n",
        "print (sorted(zip(map(lambda x: round(x, 1), rfe.ranking_), newcolname_DoS)))"
      ],
      "metadata": {
        "colab": {
          "base_uri": "https://localhost:8080/"
        },
        "id": "Ow8arRzWNISQ",
        "outputId": "275679de-fa90-4b0a-b9ca-cfc3cc36ae1d"
      },
      "execution_count": 24,
      "outputs": [
        {
          "output_type": "stream",
          "name": "stdout",
          "text": [
            "DoS Features sorted by their rank:\n",
            "[(1, ' Bwd Packet Length Std'), (2, ' Bwd Packet Length Mean'), (3, ' Fwd IAT Max'), (4, ' Flow IAT Max'), (5, ' Fwd IAT Std'), (6, ' Idle Max'), (7, ' Avg Bwd Segment Size'), (8, 'Idle Mean')]\n"
          ]
        }
      ]
    },
    {
      "cell_type": "code",
      "source": [
        "from sklearn.model_selection import train_test_split\n",
        "X_train,X_test,Y_train,Y_test = train_test_split(X_newdf_train, Y_df_train, train_size=0.70, random_state=2)"
      ],
      "metadata": {
        "id": "33vwCaaVOEkJ"
      },
      "execution_count": 25,
      "outputs": []
    },
    {
      "cell_type": "code",
      "source": [
        "from sklearn.svm import SVC\n",
        "from sklearn.metrics import classification_report, accuracy_score\n",
        "\n",
        "lda.fit_transform(X_newdf_train, Y_df_train)\n",
        "#RFC Model\n",
        "\n",
        "model_rfe = RFE(clf, n_features_to_select=3)\n",
        "model_rfe.fit(X_newdf_train, Y_df_train)\n",
        "y_pred_rfe = model_rfe.predict(X_test)\n",
        "print(classification_report(Y_test, y_pred_rfe))"
      ],
      "metadata": {
        "colab": {
          "base_uri": "https://localhost:8080/"
        },
        "id": "uOZrzESwQmPo",
        "outputId": "0bab74dd-7ab0-4ff3-fa21-3beedf903b16"
      },
      "execution_count": 28,
      "outputs": [
        {
          "output_type": "stream",
          "name": "stdout",
          "text": [
            "              precision    recall  f1-score   support\n",
            "\n",
            "           0       1.00      0.84      0.91     66507\n",
            "           1       0.84      1.00      0.91     58863\n",
            "\n",
            "    accuracy                           0.91    125370\n",
            "   macro avg       0.92      0.92      0.91    125370\n",
            "weighted avg       0.92      0.91      0.91    125370\n",
            "\n"
          ]
        }
      ]
    },
    {
      "cell_type": "code",
      "source": [
        "import itertools\n",
        "from sklearn.metrics import classification_report, confusion_matrix, accuracy_score\n",
        "#===========================CONSTRUCTING THE CONFUSION MATRIX=============================#\n",
        "def plot_confusion_matrix(cm, classes, normalize=True, title='Confusion matrix', cmap=plt.cm.Reds):\n",
        "    \n",
        "    plt.figure(figsize=(10,10))\n",
        "    plt.imshow(cm, interpolation='nearest', cmap=cmap)\n",
        "    plt.title(title)\n",
        "    plt.colorbar()\n",
        "    tick_marks = np.arange(len(classes))\n",
        "    plt.xticks(tick_marks, classes, rotation=45)\n",
        "    plt.yticks(tick_marks, classes)\n",
        "    if normalize:\n",
        "        cm = cm.astype('float') / cm.sum(axis=1)[:, np.newaxis]\n",
        "        cm = np.around(cm, decimals=2)\n",
        "        cm[np.isnan(cm)] = 0.0\n",
        "    thresh = cm.max() / 2.\n",
        "    for i, j in itertools.product(range(cm.shape[0]), range(cm.shape[1])):\n",
        "        plt.text(j, i, cm[i, j],\n",
        "                 horizontalalignment=\"center\",\n",
        "                 color=\"white\" if cm[i, j] > thresh else \"black\")\n",
        "    plt.tight_layout()\n",
        "    plt.ylabel('True label')\n",
        "    plt.xlabel('Predicted label')\n",
        "cm = confusion_matrix(Y_test, y_pred_rfe)\n",
        "target_names = [\"Intrusion detected\", \"Intrusion Not Detected\"]\n",
        "plot_confusion_matrix(cm, target_names, normalize=False, title='Confusion Matrix')\n",
        "accuracy_score(Y_test, y_pred_rfe)"
      ],
      "metadata": {
        "colab": {
          "base_uri": "https://localhost:8080/",
          "height": 939
        },
        "id": "hKLAKqjpOh8K",
        "outputId": "ee845b42-abd6-4c2a-ae2e-fb720755d8eb"
      },
      "execution_count": 29,
      "outputs": [
        {
          "output_type": "execute_result",
          "data": {
            "text/plain": [
              "0.9108797958044189"
            ]
          },
          "metadata": {},
          "execution_count": 29
        },
        {
          "output_type": "display_data",
          "data": {
            "text/plain": [
              "<Figure size 1000x1000 with 2 Axes>"
            ],
            "image/png": "[encoded data removed]"
          },
          "metadata": {}
        }
      ]
    },
    {
      "cell_type": "code",
      "source": [
        "from sklearn.metrics import roc_curve, roc_auc_score\n",
        "# plot for RFC\n",
        "false_positive_rate1, true_positive_rate1, threshold1 = roc_curve(Y_test, y_pred_rfe)\n",
        "print('roc_auc_score for RFC: ', roc_auc_score(Y_test, y_pred_rfe))\n",
        "\n",
        "plt.subplots(1, figsize=(10,10))\n",
        "plt.title('Receiver Operating Characteristic - SVM')\n",
        "plt.plot(false_positive_rate1, true_positive_rate1)\n",
        "plt.plot([0, 1], ls=\"--\")\n",
        "plt.plot([0, 0], [1, 0] , c=\".7\"), plt.plot([1, 1] , c=\".7\")\n",
        "plt.ylabel('True Positive Rate')\n",
        "plt.xlabel('False Positive Rate')\n",
        "plt.show()"
      ],
      "metadata": {
        "colab": {
          "base_uri": "https://localhost:8080/",
          "height": 889
        },
        "id": "nPPe76rsVB7_",
        "outputId": "bf7442e4-d3d6-4eec-edbc-a569ef97492d"
      },
      "execution_count": 30,
      "outputs": [
        {
          "output_type": "stream",
          "name": "stdout",
          "text": [
            "roc_auc_score for SVM:  0.9157386998944168\n"
          ]
        },
        {
          "output_type": "display_data",
          "data": {
            "text/plain": [
              "<Figure size 1000x1000 with 1 Axes>"
            ],
            "image/png": "[encoded data removed]"
          },
          "metadata": {}
        }
      ]
    },
    {
      "cell_type": "code",
      "source": [],
      "metadata": {
        "id": "uGk1FzAhWW1T"
      },
      "execution_count": null,
      "outputs": []
    }
  ]
}